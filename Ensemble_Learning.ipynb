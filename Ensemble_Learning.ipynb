{
 "cells": [
  {
   "cell_type": "markdown",
   "metadata": {
    "id": "uVNsRgE_SB5n"
   },
   "source": [
    "#1.Imports"
   ]
  },
  {
   "cell_type": "code",
   "execution_count": 6,
   "metadata": {
    "executionInfo": {
     "elapsed": 1378,
     "status": "ok",
     "timestamp": 1618605374247,
     "user": {
      "displayName": "sadra barikbin",
      "photoUrl": "https://lh3.googleusercontent.com/a-/AOh14GiCq0YqNHWfcZyly3I_AMTkvS8_tO8PZOQpGtkK=s64",
      "userId": "07513140462530453530"
     },
     "user_tz": -270
    },
    "id": "hfDt_en2tAxA"
   },
   "outputs": [],
   "source": [
    "import numpy as np\n",
    "import pandas as pd\n",
    "import matplotlib.pyplot as plt\n",
    "from numpy.random import choice,randint\n",
    "from collections import Counter\n",
    "from sklearn.base import BaseEstimator,ClassifierMixin,clone\n",
    "from sklearn.utils import resample\n",
    "from sklearn.datasets import load_breast_cancer\n",
    "from sklearn.model_selection import train_test_split,GridSearchCV,cross_val_score,ShuffleSplit,validation_curve\n",
    "from sklearn.svm import SVC\n",
    "from sklearn.neighbors import KNeighborsClassifier\n",
    "from sklearn.tree import DecisionTreeClassifier\n",
    "from sklearn.ensemble import AdaBoostClassifier,RandomForestClassifier\n",
    "from sklearn.discriminant_analysis import LinearDiscriminantAnalysis as LDA\n",
    "from sklearn.metrics import balanced_accuracy_score,make_scorer,classification_report\n",
    "from sklearn.pipeline import Pipeline\n",
    "from sklearn.decomposition import PCA\n",
    "from sklearn.feature_selection import SelectKBest,mutual_info_classif"
   ]
  },
  {
   "cell_type": "markdown",
   "metadata": {
    "id": "ZLAHLZhmSGfC"
   },
   "source": [
    "#2.Two simple Bagging implementation"
   ]
  },
  {
   "cell_type": "code",
   "execution_count": 2,
   "metadata": {
    "executionInfo": {
     "elapsed": 2067,
     "status": "ok",
     "timestamp": 1618558198854,
     "user": {
      "displayName": "sadra barikbin",
      "photoUrl": "https://lh3.googleusercontent.com/a-/AOh14GiCq0YqNHWfcZyly3I_AMTkvS8_tO8PZOQpGtkK=s64",
      "userId": "07513140462530453530"
     },
     "user_tz": -270
    },
    "id": "VTcy3Mv3s3G1"
   },
   "outputs": [],
   "source": [
    "class SimpleBagger(BaseEstimator,ClassifierMixin):\n",
    "  def __init__(self,base_estimator=SVC(),n_estimators=5):\n",
    "    self.base_estimator=base_estimator\n",
    "    self.n_estimators=n_estimators\n",
    "  def get_params(self,deep=True):\n",
    "    return {'base_estimator':self.base_estimator,'n_estimators':self.n_estimators}\n",
    "  def set_params(self,**params):\n",
    "    self.base_estimator=params['base_estimator']\n",
    "    self.n_estimators=params['n_estimators']\n",
    "    return self\n",
    "  def fit(self,X,y):\n",
    "    self.members=[clone(self.base_estimator) for _ in range(self.n_estimators)]\n",
    "    for member in self.members:\n",
    "      member.fit(*resample(X,y))\n",
    "    return self\n",
    "  def predict(self,X):\n",
    "    preds=np.array([member.predict(X) for member in self.members])\n",
    "    return np.array([Counter(votes).most_common(1)[0][0] for votes in preds.T])\n",
    "  def score(self,X,y):\n",
    "    return sum(self.predict(X)==y)/X.shape[0]\n"
   ]
  },
  {
   "cell_type": "code",
   "execution_count": 11,
   "metadata": {
    "executionInfo": {
     "elapsed": 1676,
     "status": "ok",
     "timestamp": 1618345563427,
     "user": {
      "displayName": "sadra barikbin",
      "photoUrl": "https://lh3.googleusercontent.com/a-/AOh14GiCq0YqNHWfcZyly3I_AMTkvS8_tO8PZOQpGtkK=s64",
      "userId": "07513140462530453530"
     },
     "user_tz": -270
    },
    "id": "Vb5r-Lnmo8qG"
   },
   "outputs": [],
   "source": [
    "data = load_breast_cancer()\n",
    "X_train, X_test, y_train, y_test = train_test_split(data.data,data.target,test_size=0.33, random_state=42)"
   ]
  },
  {
   "cell_type": "code",
   "execution_count": 61,
   "metadata": {
    "colab": {
     "base_uri": "https://localhost:8080/"
    },
    "executionInfo": {
     "elapsed": 978,
     "status": "ok",
     "timestamp": 1618350304476,
     "user": {
      "displayName": "sadra barikbin",
      "photoUrl": "https://lh3.googleusercontent.com/a-/AOh14GiCq0YqNHWfcZyly3I_AMTkvS8_tO8PZOQpGtkK=s64",
      "userId": "07513140462530453530"
     },
     "user_tz": -270
    },
    "id": "-PkSLk6A5_7e",
    "outputId": "5b8ff95c-481d-4f00-bc6e-51beee450412"
   },
   "outputs": [
    {
     "data": {
      "text/plain": [
       "0.9414893617021277"
      ]
     },
     "execution_count": 61,
     "metadata": {
      "tags": []
     },
     "output_type": "execute_result"
    }
   ],
   "source": [
    "bagger=SimpleBagger(SVC(),10)\n",
    "bagger.fit(X_train,y_train)\n",
    "bagger.score(X_test,y_test)"
   ]
  },
  {
   "cell_type": "code",
   "execution_count": 66,
   "metadata": {
    "colab": {
     "base_uri": "https://localhost:8080/"
    },
    "executionInfo": {
     "elapsed": 9936,
     "status": "ok",
     "timestamp": 1618350525292,
     "user": {
      "displayName": "sadra barikbin",
      "photoUrl": "https://lh3.googleusercontent.com/a-/AOh14GiCq0YqNHWfcZyly3I_AMTkvS8_tO8PZOQpGtkK=s64",
      "userId": "07513140462530453530"
     },
     "user_tz": -270
    },
    "id": "pVnN9PHm667x",
    "outputId": "e646f3e1-c3e7-4c61-ca87-c4888a5c91cb"
   },
   "outputs": [
    {
     "name": "stdout",
     "output_type": "stream",
     "text": [
      "Best Ensemble:{'base_estimator': DecisionTreeClassifier(ccp_alpha=0.0, class_weight=None, criterion='gini',\n",
      "                       max_depth=None, max_features=None, max_leaf_nodes=None,\n",
      "                       min_impurity_decrease=0.0, min_impurity_split=None,\n",
      "                       min_samples_leaf=1, min_samples_split=2,\n",
      "                       min_weight_fraction_leaf=0.0, presort='deprecated',\n",
      "                       random_state=None, splitter='best'), 'n_estimators': 50}\n",
      "Its score:0.9561092997981679\n"
     ]
    }
   ],
   "source": [
    "baggerGrid=GridSearchCV(SimpleBagger(),{'n_estimators':[2,5,10,20,50],'base_estimator':(SVC(),KNeighborsClassifier(),DecisionTreeClassifier())})\n",
    "baggerGrid.fit(data.data,data.target)\n",
    "print(f\"Best Ensemble:{baggerGrid.best_params_}\\nIts score:{baggerGrid.best_score_}\")\n"
   ]
  },
  {
   "cell_type": "code",
   "execution_count": 3,
   "metadata": {
    "executionInfo": {
     "elapsed": 1851,
     "status": "ok",
     "timestamp": 1618558208495,
     "user": {
      "displayName": "sadra barikbin",
      "photoUrl": "https://lh3.googleusercontent.com/a-/AOh14GiCq0YqNHWfcZyly3I_AMTkvS8_tO8PZOQpGtkK=s64",
      "userId": "07513140462530453530"
     },
     "user_tz": -270
    },
    "id": "S61H_mBcGRMt"
   },
   "outputs": [],
   "source": [
    "class LessSimpleBagger(ClassifierMixin):\n",
    "  def __init__(self,base_estimator=SVC(),n_estimators=5,max_features=0.5):\n",
    "    self.base_estimator=base_estimator\n",
    "    self.n_estimators=n_estimators\n",
    "    self.max_features=max_features\n",
    "  def get_params(self,deep=True):\n",
    "    return {'base_estimator':self.base_estimator,'n_estimators':self.n_estimators,'max_features':self.max_features}\n",
    "  def set_params(self,**params):\n",
    "    self.base_estimator=params['base_estimator']\n",
    "    self.n_estimators=params['n_estimators']\n",
    "    self.max_features=params['max_features']\n",
    "    return self\n",
    "  def fit(self,X,y):\n",
    "    self.members=[(clone(self.base_estimator),choice(X.shape[1],size=(randint(self.max_features*X.shape[1])+1,))) for _ in range(self.n_estimators)]\n",
    "    for member,features in self.members:\n",
    "      member.fit(*resample(X[:,features],y))\n",
    "  def predict(self,X):\n",
    "    preds=np.array([member.predict(X[:,features]) for member,features in self.members])\n",
    "    return np.array([Counter(votes).most_common(1)[0][0] for votes in preds.T])\n",
    "  def score(self,X,y):\n",
    "    return sum(self.predict(X)==y)/X.shape[0]"
   ]
  },
  {
   "cell_type": "code",
   "execution_count": 65,
   "metadata": {
    "colab": {
     "base_uri": "https://localhost:8080/"
    },
    "executionInfo": {
     "elapsed": 21465,
     "status": "ok",
     "timestamp": 1618350514036,
     "user": {
      "displayName": "sadra barikbin",
      "photoUrl": "https://lh3.googleusercontent.com/a-/AOh14GiCq0YqNHWfcZyly3I_AMTkvS8_tO8PZOQpGtkK=s64",
      "userId": "07513140462530453530"
     },
     "user_tz": -270
    },
    "id": "bcd9vK9wLgWp",
    "outputId": "57ea5a07-6732-4f98-da72-a5cd5bcbc584"
   },
   "outputs": [
    {
     "name": "stdout",
     "output_type": "stream",
     "text": [
      "Best Ensemble:{'base_estimator': DecisionTreeClassifier(ccp_alpha=0.0, class_weight=None, criterion='gini',\n",
      "                       max_depth=None, max_features=None, max_leaf_nodes=None,\n",
      "                       min_impurity_decrease=0.0, min_impurity_split=None,\n",
      "                       min_samples_leaf=1, min_samples_split=2,\n",
      "                       min_weight_fraction_leaf=0.0, presort='deprecated',\n",
      "                       random_state=None, splitter='best'), 'max_features': 1.0, 'n_estimators': 20}\n",
      "Its score:0.9648657040832168\n"
     ]
    }
   ],
   "source": [
    "baggerGrid=GridSearchCV(LessSimpleBagger(),{'n_estimators':[2,5,10,20,50],'base_estimator':(SVC(),KNeighborsClassifier(),DecisionTreeClassifier()),'max_features':[0.5,0.8,1.]})\n",
    "baggerGrid.fit(data.data,data.target)\n",
    "print(f\"Best Ensemble:{baggerGrid.best_params_}\\nIts score:{baggerGrid.best_score_}\")"
   ]
  },
  {
   "cell_type": "markdown",
   "metadata": {
    "id": "WzqA1cIZSWii"
   },
   "source": [
    "#3.OCD high-dimensional dataset"
   ]
  },
  {
   "cell_type": "code",
   "execution_count": 2,
   "metadata": {
    "colab": {
     "base_uri": "https://localhost:8080/"
    },
    "executionInfo": {
     "elapsed": 7577,
     "status": "ok",
     "timestamp": 1618605208226,
     "user": {
      "displayName": "sadra barikbin",
      "photoUrl": "https://lh3.googleusercontent.com/a-/AOh14GiCq0YqNHWfcZyly3I_AMTkvS8_tO8PZOQpGtkK=s64",
      "userId": "07513140462530453530"
     },
     "user_tz": -270
    },
    "id": "sG5vjPiKV7uw",
    "outputId": "7c912cab-6b96-4c35-a73c-0976f091f303"
   },
   "outputs": [
    {
     "name": "stdout",
     "output_type": "stream",
     "text": [
      "Collecting GEOparse\n",
      "\u001b[?25l  Downloading https://files.pythonhosted.org/packages/8b/28/e2e4e3bb168b6d6494c3cee264e351d9b9f8cb3b27a70f4f475a76d90275/GEOparse-2.0.3.tar.gz (278kB)\n",
      "\r",
      "\u001b[K     |█▏                              | 10kB 15.3MB/s eta 0:00:01\r",
      "\u001b[K     |██▍                             | 20kB 20.4MB/s eta 0:00:01\r",
      "\u001b[K     |███▌                            | 30kB 10.1MB/s eta 0:00:01\r",
      "\u001b[K     |████▊                           | 40kB 7.6MB/s eta 0:00:01\r",
      "\u001b[K     |█████▉                          | 51kB 4.6MB/s eta 0:00:01\r",
      "\u001b[K     |███████                         | 61kB 5.0MB/s eta 0:00:01\r",
      "\u001b[K     |████████▎                       | 71kB 5.5MB/s eta 0:00:01\r",
      "\u001b[K     |█████████▍                      | 81kB 5.5MB/s eta 0:00:01\r",
      "\u001b[K     |██████████▋                     | 92kB 5.1MB/s eta 0:00:01\r",
      "\u001b[K     |███████████▊                    | 102kB 4.4MB/s eta 0:00:01\r",
      "\u001b[K     |█████████████                   | 112kB 4.4MB/s eta 0:00:01\r",
      "\u001b[K     |██████████████▏                 | 122kB 4.4MB/s eta 0:00:01\r",
      "\u001b[K     |███████████████▎                | 133kB 4.4MB/s eta 0:00:01\r",
      "\u001b[K     |████████████████▌               | 143kB 4.4MB/s eta 0:00:01\r",
      "\u001b[K     |█████████████████▋              | 153kB 4.4MB/s eta 0:00:01\r",
      "\u001b[K     |██████████████████▉             | 163kB 4.4MB/s eta 0:00:01\r",
      "\u001b[K     |████████████████████            | 174kB 4.4MB/s eta 0:00:01\r",
      "\u001b[K     |█████████████████████▏          | 184kB 4.4MB/s eta 0:00:01\r",
      "\u001b[K     |██████████████████████▍         | 194kB 4.4MB/s eta 0:00:01\r",
      "\u001b[K     |███████████████████████▌        | 204kB 4.4MB/s eta 0:00:01\r",
      "\u001b[K     |████████████████████████▊       | 215kB 4.4MB/s eta 0:00:01\r",
      "\u001b[K     |█████████████████████████▉      | 225kB 4.4MB/s eta 0:00:01\r",
      "\u001b[K     |███████████████████████████     | 235kB 4.4MB/s eta 0:00:01\r",
      "\u001b[K     |████████████████████████████▎   | 245kB 4.4MB/s eta 0:00:01\r",
      "\u001b[K     |█████████████████████████████▍  | 256kB 4.4MB/s eta 0:00:01\r",
      "\u001b[K     |██████████████████████████████▋ | 266kB 4.4MB/s eta 0:00:01\r",
      "\u001b[K     |███████████████████████████████▊| 276kB 4.4MB/s eta 0:00:01\r",
      "\u001b[K     |████████████████████████████████| 286kB 4.4MB/s \n",
      "\u001b[?25hRequirement already satisfied: numpy>=1.7 in /usr/local/lib/python3.7/dist-packages (from GEOparse) (1.19.5)\n",
      "Requirement already satisfied: pandas>=0.17 in /usr/local/lib/python3.7/dist-packages (from GEOparse) (1.1.5)\n",
      "Requirement already satisfied: requests>=2.21.0 in /usr/local/lib/python3.7/dist-packages (from GEOparse) (2.23.0)\n",
      "Requirement already satisfied: tqdm>=4.31.1 in /usr/local/lib/python3.7/dist-packages (from GEOparse) (4.41.1)\n",
      "Requirement already satisfied: pytz>=2017.2 in /usr/local/lib/python3.7/dist-packages (from pandas>=0.17->GEOparse) (2018.9)\n",
      "Requirement already satisfied: python-dateutil>=2.7.3 in /usr/local/lib/python3.7/dist-packages (from pandas>=0.17->GEOparse) (2.8.1)\n",
      "Requirement already satisfied: urllib3!=1.25.0,!=1.25.1,<1.26,>=1.21.1 in /usr/local/lib/python3.7/dist-packages (from requests>=2.21.0->GEOparse) (1.24.3)\n",
      "Requirement already satisfied: chardet<4,>=3.0.2 in /usr/local/lib/python3.7/dist-packages (from requests>=2.21.0->GEOparse) (3.0.4)\n",
      "Requirement already satisfied: idna<3,>=2.5 in /usr/local/lib/python3.7/dist-packages (from requests>=2.21.0->GEOparse) (2.10)\n",
      "Requirement already satisfied: certifi>=2017.4.17 in /usr/local/lib/python3.7/dist-packages (from requests>=2.21.0->GEOparse) (2020.12.5)\n",
      "Requirement already satisfied: six>=1.5 in /usr/local/lib/python3.7/dist-packages (from python-dateutil>=2.7.3->pandas>=0.17->GEOparse) (1.15.0)\n",
      "Building wheels for collected packages: GEOparse\n",
      "  Building wheel for GEOparse (setup.py) ... \u001b[?25l\u001b[?25hdone\n",
      "  Created wheel for GEOparse: filename=GEOparse-2.0.3-cp37-none-any.whl size=29034 sha256=baa473adc8e0526bc12ea6e5c5c5d8fe7548335c53a3372e9c6309fbc9d64a71\n",
      "  Stored in directory: /root/.cache/pip/wheels/c6/5e/b4/7109a7b8e8046bd8586349a6ac1a76ef8190d12a61a7b4cf0d\n",
      "Successfully built GEOparse\n",
      "Installing collected packages: GEOparse\n",
      "Successfully installed GEOparse-2.0.3\n"
     ]
    }
   ],
   "source": [
    "!pip install GEOparse"
   ]
  },
  {
   "cell_type": "code",
   "execution_count": 3,
   "metadata": {
    "colab": {
     "base_uri": "https://localhost:8080/"
    },
    "executionInfo": {
     "elapsed": 26786,
     "status": "ok",
     "timestamp": 1618605229753,
     "user": {
      "displayName": "sadra barikbin",
      "photoUrl": "https://lh3.googleusercontent.com/a-/AOh14GiCq0YqNHWfcZyly3I_AMTkvS8_tO8PZOQpGtkK=s64",
      "userId": "07513140462530453530"
     },
     "user_tz": -270
    },
    "id": "Fo76pjASa7Wk",
    "outputId": "1dc6e954-2244-4603-9897-b43873dfdd97"
   },
   "outputs": [
    {
     "name": "stderr",
     "output_type": "stream",
     "text": [
      "16-Apr-2021 20:33:27 DEBUG utils - Directory ./ already exists. Skipping.\n",
      "16-Apr-2021 20:33:27 INFO GEOparse - Downloading ftp://ftp.ncbi.nlm.nih.gov/geo/series/GSE60nnn/GSE60190/soft/GSE60190_family.soft.gz to ./GSE60190_family.soft.gz\n",
      "100%|██████████| 65.6M/65.6M [00:00<00:00, 111MB/s]\n",
      "16-Apr-2021 20:33:28 DEBUG downloader - Size validation passed\n",
      "16-Apr-2021 20:33:28 DEBUG downloader - Moving /tmp/tmphdlrt7y6 to /content/GSE60190_family.soft.gz\n",
      "16-Apr-2021 20:33:28 DEBUG downloader - Successfully downloaded ftp://ftp.ncbi.nlm.nih.gov/geo/series/GSE60nnn/GSE60190/soft/GSE60190_family.soft.gz\n",
      "16-Apr-2021 20:33:28 INFO GEOparse - Parsing ./GSE60190_family.soft.gz: \n",
      "16-Apr-2021 20:33:28 DEBUG GEOparse - DATABASE: GeoMiame\n",
      "16-Apr-2021 20:33:28 DEBUG GEOparse - SERIES: GSE60190\n",
      "16-Apr-2021 20:33:28 DEBUG GEOparse - PLATFORM: GPL6947\n",
      "16-Apr-2021 20:33:30 DEBUG GEOparse - SAMPLE: GSM1467273\n",
      "16-Apr-2021 20:33:30 DEBUG GEOparse - SAMPLE: GSM1467274\n",
      "16-Apr-2021 20:33:30 DEBUG GEOparse - SAMPLE: GSM1467275\n",
      "16-Apr-2021 20:33:30 DEBUG GEOparse - SAMPLE: GSM1467276\n",
      "16-Apr-2021 20:33:30 DEBUG GEOparse - SAMPLE: GSM1467277\n",
      "16-Apr-2021 20:33:30 DEBUG GEOparse - SAMPLE: GSM1467278\n",
      "16-Apr-2021 20:33:30 DEBUG GEOparse - SAMPLE: GSM1467279\n",
      "16-Apr-2021 20:33:31 DEBUG GEOparse - SAMPLE: GSM1467280\n",
      "16-Apr-2021 20:33:31 DEBUG GEOparse - SAMPLE: GSM1467281\n",
      "16-Apr-2021 20:33:31 DEBUG GEOparse - SAMPLE: GSM1467282\n",
      "16-Apr-2021 20:33:31 DEBUG GEOparse - SAMPLE: GSM1467283\n",
      "16-Apr-2021 20:33:31 DEBUG GEOparse - SAMPLE: GSM1467284\n",
      "16-Apr-2021 20:33:31 DEBUG GEOparse - SAMPLE: GSM1467285\n",
      "16-Apr-2021 20:33:31 DEBUG GEOparse - SAMPLE: GSM1467286\n",
      "16-Apr-2021 20:33:32 DEBUG GEOparse - SAMPLE: GSM1467287\n",
      "16-Apr-2021 20:33:32 DEBUG GEOparse - SAMPLE: GSM1467288\n",
      "16-Apr-2021 20:33:32 DEBUG GEOparse - SAMPLE: GSM1467289\n",
      "16-Apr-2021 20:33:32 DEBUG GEOparse - SAMPLE: GSM1467290\n",
      "16-Apr-2021 20:33:32 DEBUG GEOparse - SAMPLE: GSM1467291\n",
      "16-Apr-2021 20:33:32 DEBUG GEOparse - SAMPLE: GSM1467292\n",
      "16-Apr-2021 20:33:32 DEBUG GEOparse - SAMPLE: GSM1467293\n",
      "16-Apr-2021 20:33:33 DEBUG GEOparse - SAMPLE: GSM1467294\n",
      "16-Apr-2021 20:33:33 DEBUG GEOparse - SAMPLE: GSM1467295\n",
      "16-Apr-2021 20:33:33 DEBUG GEOparse - SAMPLE: GSM1467296\n",
      "16-Apr-2021 20:33:33 DEBUG GEOparse - SAMPLE: GSM1467297\n",
      "16-Apr-2021 20:33:33 DEBUG GEOparse - SAMPLE: GSM1467298\n",
      "16-Apr-2021 20:33:33 DEBUG GEOparse - SAMPLE: GSM1467299\n",
      "16-Apr-2021 20:33:33 DEBUG GEOparse - SAMPLE: GSM1467300\n",
      "16-Apr-2021 20:33:34 DEBUG GEOparse - SAMPLE: GSM1467301\n",
      "16-Apr-2021 20:33:34 DEBUG GEOparse - SAMPLE: GSM1467302\n",
      "16-Apr-2021 20:33:34 DEBUG GEOparse - SAMPLE: GSM1467303\n",
      "16-Apr-2021 20:33:34 DEBUG GEOparse - SAMPLE: GSM1467304\n",
      "16-Apr-2021 20:33:34 DEBUG GEOparse - SAMPLE: GSM1467305\n",
      "16-Apr-2021 20:33:34 DEBUG GEOparse - SAMPLE: GSM1467306\n",
      "16-Apr-2021 20:33:34 DEBUG GEOparse - SAMPLE: GSM1467307\n",
      "16-Apr-2021 20:33:35 DEBUG GEOparse - SAMPLE: GSM1467308\n",
      "16-Apr-2021 20:33:35 DEBUG GEOparse - SAMPLE: GSM1467309\n",
      "16-Apr-2021 20:33:35 DEBUG GEOparse - SAMPLE: GSM1467310\n",
      "16-Apr-2021 20:33:35 DEBUG GEOparse - SAMPLE: GSM1467311\n",
      "16-Apr-2021 20:33:35 DEBUG GEOparse - SAMPLE: GSM1467312\n",
      "16-Apr-2021 20:33:35 DEBUG GEOparse - SAMPLE: GSM1467313\n",
      "16-Apr-2021 20:33:35 DEBUG GEOparse - SAMPLE: GSM1467314\n",
      "16-Apr-2021 20:33:36 DEBUG GEOparse - SAMPLE: GSM1467315\n",
      "16-Apr-2021 20:33:36 DEBUG GEOparse - SAMPLE: GSM1467316\n",
      "16-Apr-2021 20:33:36 DEBUG GEOparse - SAMPLE: GSM1467317\n",
      "16-Apr-2021 20:33:36 DEBUG GEOparse - SAMPLE: GSM1467318\n",
      "16-Apr-2021 20:33:36 DEBUG GEOparse - SAMPLE: GSM1467319\n",
      "16-Apr-2021 20:33:36 DEBUG GEOparse - SAMPLE: GSM1467320\n",
      "16-Apr-2021 20:33:37 DEBUG GEOparse - SAMPLE: GSM1467321\n",
      "16-Apr-2021 20:33:37 DEBUG GEOparse - SAMPLE: GSM1467322\n",
      "16-Apr-2021 20:33:37 DEBUG GEOparse - SAMPLE: GSM1467323\n",
      "16-Apr-2021 20:33:37 DEBUG GEOparse - SAMPLE: GSM1467324\n",
      "16-Apr-2021 20:33:37 DEBUG GEOparse - SAMPLE: GSM1467325\n",
      "16-Apr-2021 20:33:37 DEBUG GEOparse - SAMPLE: GSM1467326\n",
      "16-Apr-2021 20:33:37 DEBUG GEOparse - SAMPLE: GSM1467327\n",
      "16-Apr-2021 20:33:38 DEBUG GEOparse - SAMPLE: GSM1467328\n",
      "16-Apr-2021 20:33:38 DEBUG GEOparse - SAMPLE: GSM1467329\n",
      "16-Apr-2021 20:33:38 DEBUG GEOparse - SAMPLE: GSM1467330\n",
      "16-Apr-2021 20:33:38 DEBUG GEOparse - SAMPLE: GSM1467331\n",
      "16-Apr-2021 20:33:38 DEBUG GEOparse - SAMPLE: GSM1467332\n",
      "16-Apr-2021 20:33:38 DEBUG GEOparse - SAMPLE: GSM1467333\n",
      "16-Apr-2021 20:33:38 DEBUG GEOparse - SAMPLE: GSM1467334\n",
      "16-Apr-2021 20:33:39 DEBUG GEOparse - SAMPLE: GSM1467335\n",
      "16-Apr-2021 20:33:39 DEBUG GEOparse - SAMPLE: GSM1467336\n",
      "16-Apr-2021 20:33:39 DEBUG GEOparse - SAMPLE: GSM1467337\n",
      "16-Apr-2021 20:33:39 DEBUG GEOparse - SAMPLE: GSM1467338\n",
      "16-Apr-2021 20:33:39 DEBUG GEOparse - SAMPLE: GSM1467339\n",
      "16-Apr-2021 20:33:39 DEBUG GEOparse - SAMPLE: GSM1467340\n",
      "16-Apr-2021 20:33:39 DEBUG GEOparse - SAMPLE: GSM1467341\n",
      "16-Apr-2021 20:33:40 DEBUG GEOparse - SAMPLE: GSM1467342\n",
      "16-Apr-2021 20:33:40 DEBUG GEOparse - SAMPLE: GSM1467343\n",
      "16-Apr-2021 20:33:40 DEBUG GEOparse - SAMPLE: GSM1467344\n",
      "16-Apr-2021 20:33:40 DEBUG GEOparse - SAMPLE: GSM1467345\n",
      "16-Apr-2021 20:33:40 DEBUG GEOparse - SAMPLE: GSM1467346\n",
      "16-Apr-2021 20:33:40 DEBUG GEOparse - SAMPLE: GSM1467347\n",
      "16-Apr-2021 20:33:40 DEBUG GEOparse - SAMPLE: GSM1467348\n",
      "16-Apr-2021 20:33:41 DEBUG GEOparse - SAMPLE: GSM1467349\n",
      "16-Apr-2021 20:33:41 DEBUG GEOparse - SAMPLE: GSM1467350\n",
      "16-Apr-2021 20:33:41 DEBUG GEOparse - SAMPLE: GSM1467351\n",
      "16-Apr-2021 20:33:41 DEBUG GEOparse - SAMPLE: GSM1467352\n",
      "16-Apr-2021 20:33:41 DEBUG GEOparse - SAMPLE: GSM1467353\n",
      "16-Apr-2021 20:33:41 DEBUG GEOparse - SAMPLE: GSM1467354\n",
      "16-Apr-2021 20:33:41 DEBUG GEOparse - SAMPLE: GSM1467355\n",
      "16-Apr-2021 20:33:42 DEBUG GEOparse - SAMPLE: GSM1467356\n",
      "16-Apr-2021 20:33:42 DEBUG GEOparse - SAMPLE: GSM1467357\n",
      "16-Apr-2021 20:33:42 DEBUG GEOparse - SAMPLE: GSM1467358\n",
      "16-Apr-2021 20:33:42 DEBUG GEOparse - SAMPLE: GSM1467359\n",
      "16-Apr-2021 20:33:42 DEBUG GEOparse - SAMPLE: GSM1467360\n",
      "16-Apr-2021 20:33:42 DEBUG GEOparse - SAMPLE: GSM1467361\n",
      "16-Apr-2021 20:33:42 DEBUG GEOparse - SAMPLE: GSM1467362\n",
      "16-Apr-2021 20:33:43 DEBUG GEOparse - SAMPLE: GSM1467363\n",
      "16-Apr-2021 20:33:43 DEBUG GEOparse - SAMPLE: GSM1467364\n",
      "16-Apr-2021 20:33:43 DEBUG GEOparse - SAMPLE: GSM1467365\n",
      "16-Apr-2021 20:33:43 DEBUG GEOparse - SAMPLE: GSM1467366\n",
      "16-Apr-2021 20:33:43 DEBUG GEOparse - SAMPLE: GSM1467367\n",
      "16-Apr-2021 20:33:43 DEBUG GEOparse - SAMPLE: GSM1467368\n",
      "16-Apr-2021 20:33:43 DEBUG GEOparse - SAMPLE: GSM1467369\n",
      "16-Apr-2021 20:33:44 DEBUG GEOparse - SAMPLE: GSM1467370\n",
      "16-Apr-2021 20:33:44 DEBUG GEOparse - SAMPLE: GSM1467371\n",
      "16-Apr-2021 20:33:44 DEBUG GEOparse - SAMPLE: GSM1467372\n",
      "16-Apr-2021 20:33:44 DEBUG GEOparse - SAMPLE: GSM1467373\n",
      "16-Apr-2021 20:33:44 DEBUG GEOparse - SAMPLE: GSM1467374\n",
      "16-Apr-2021 20:33:44 DEBUG GEOparse - SAMPLE: GSM1467375\n",
      "16-Apr-2021 20:33:44 DEBUG GEOparse - SAMPLE: GSM1467376\n",
      "16-Apr-2021 20:33:45 DEBUG GEOparse - SAMPLE: GSM1467377\n",
      "16-Apr-2021 20:33:45 DEBUG GEOparse - SAMPLE: GSM1467378\n",
      "16-Apr-2021 20:33:45 DEBUG GEOparse - SAMPLE: GSM1467379\n",
      "16-Apr-2021 20:33:45 DEBUG GEOparse - SAMPLE: GSM1467380\n",
      "16-Apr-2021 20:33:45 DEBUG GEOparse - SAMPLE: GSM1467381\n",
      "16-Apr-2021 20:33:45 DEBUG GEOparse - SAMPLE: GSM1467382\n",
      "16-Apr-2021 20:33:46 DEBUG GEOparse - SAMPLE: GSM1467383\n",
      "16-Apr-2021 20:33:46 DEBUG GEOparse - SAMPLE: GSM1467384\n",
      "16-Apr-2021 20:33:46 DEBUG GEOparse - SAMPLE: GSM1467385\n",
      "16-Apr-2021 20:33:46 DEBUG GEOparse - SAMPLE: GSM1467386\n",
      "16-Apr-2021 20:33:46 DEBUG GEOparse - SAMPLE: GSM1467387\n",
      "16-Apr-2021 20:33:46 DEBUG GEOparse - SAMPLE: GSM1467388\n",
      "16-Apr-2021 20:33:46 DEBUG GEOparse - SAMPLE: GSM1467389\n",
      "16-Apr-2021 20:33:47 DEBUG GEOparse - SAMPLE: GSM1467390\n",
      "16-Apr-2021 20:33:47 DEBUG GEOparse - SAMPLE: GSM1467391\n",
      "16-Apr-2021 20:33:47 DEBUG GEOparse - SAMPLE: GSM1467392\n",
      "16-Apr-2021 20:33:47 DEBUG GEOparse - SAMPLE: GSM1467393\n",
      "16-Apr-2021 20:33:47 DEBUG GEOparse - SAMPLE: GSM1467394\n",
      "16-Apr-2021 20:33:47 DEBUG GEOparse - SAMPLE: GSM1467395\n",
      "16-Apr-2021 20:33:47 DEBUG GEOparse - SAMPLE: GSM1467396\n",
      "16-Apr-2021 20:33:48 DEBUG GEOparse - SAMPLE: GSM1467397\n",
      "16-Apr-2021 20:33:48 DEBUG GEOparse - SAMPLE: GSM1467398\n",
      "16-Apr-2021 20:33:48 DEBUG GEOparse - SAMPLE: GSM1467399\n",
      "16-Apr-2021 20:33:48 DEBUG GEOparse - SAMPLE: GSM1467400\n",
      "16-Apr-2021 20:33:48 DEBUG GEOparse - SAMPLE: GSM1467401\n",
      "16-Apr-2021 20:33:48 DEBUG GEOparse - SAMPLE: GSM1467402\n",
      "16-Apr-2021 20:33:48 DEBUG GEOparse - SAMPLE: GSM1467403\n",
      "16-Apr-2021 20:33:49 DEBUG GEOparse - SAMPLE: GSM1467404\n",
      "16-Apr-2021 20:33:49 DEBUG GEOparse - SAMPLE: GSM1467405\n"
     ]
    }
   ],
   "source": [
    "import GEOparse as G\n",
    "gse = G.get_GEO(geo=\"GSE60190\", destdir=\"./\")\n",
    "#https://www.ncbi.nlm.nih.gov/geo/query/acc.cgi?acc=GSE60190"
   ]
  },
  {
   "cell_type": "code",
   "execution_count": 4,
   "metadata": {
    "colab": {
     "base_uri": "https://localhost:8080/",
     "height": 284
    },
    "executionInfo": {
     "elapsed": 25371,
     "status": "ok",
     "timestamp": 1618605231339,
     "user": {
      "displayName": "sadra barikbin",
      "photoUrl": "https://lh3.googleusercontent.com/a-/AOh14GiCq0YqNHWfcZyly3I_AMTkvS8_tO8PZOQpGtkK=s64",
      "userId": "07513140462530453530"
     },
     "user_tz": -270
    },
    "id": "LV4dMo1sWDfV",
    "outputId": "d8d54e60-300b-4843-840c-6356aebbf671"
   },
   "outputs": [
    {
     "data": {
      "text/html": [
       "<div>\n",
       "<style scoped>\n",
       "    .dataframe tbody tr th:only-of-type {\n",
       "        vertical-align: middle;\n",
       "    }\n",
       "\n",
       "    .dataframe tbody tr th {\n",
       "        vertical-align: top;\n",
       "    }\n",
       "\n",
       "    .dataframe thead th {\n",
       "        text-align: right;\n",
       "    }\n",
       "</style>\n",
       "<table border=\"1\" class=\"dataframe\">\n",
       "  <thead>\n",
       "    <tr style=\"text-align: right;\">\n",
       "      <th></th>\n",
       "      <th>GSM1467273</th>\n",
       "      <th>GSM1467274</th>\n",
       "      <th>GSM1467275</th>\n",
       "      <th>GSM1467276</th>\n",
       "      <th>GSM1467277</th>\n",
       "      <th>GSM1467278</th>\n",
       "      <th>GSM1467279</th>\n",
       "      <th>GSM1467280</th>\n",
       "      <th>GSM1467281</th>\n",
       "      <th>GSM1467282</th>\n",
       "      <th>GSM1467283</th>\n",
       "      <th>GSM1467284</th>\n",
       "      <th>GSM1467285</th>\n",
       "      <th>GSM1467286</th>\n",
       "      <th>GSM1467287</th>\n",
       "      <th>GSM1467288</th>\n",
       "      <th>GSM1467289</th>\n",
       "      <th>GSM1467290</th>\n",
       "      <th>GSM1467291</th>\n",
       "      <th>GSM1467292</th>\n",
       "      <th>GSM1467293</th>\n",
       "      <th>GSM1467294</th>\n",
       "      <th>GSM1467295</th>\n",
       "      <th>GSM1467296</th>\n",
       "      <th>GSM1467297</th>\n",
       "      <th>GSM1467298</th>\n",
       "      <th>GSM1467299</th>\n",
       "      <th>GSM1467300</th>\n",
       "      <th>GSM1467301</th>\n",
       "      <th>GSM1467302</th>\n",
       "      <th>GSM1467303</th>\n",
       "      <th>GSM1467304</th>\n",
       "      <th>GSM1467305</th>\n",
       "      <th>GSM1467306</th>\n",
       "      <th>GSM1467307</th>\n",
       "      <th>GSM1467308</th>\n",
       "      <th>GSM1467309</th>\n",
       "      <th>GSM1467310</th>\n",
       "      <th>GSM1467311</th>\n",
       "      <th>GSM1467312</th>\n",
       "      <th>...</th>\n",
       "      <th>GSM1467366</th>\n",
       "      <th>GSM1467367</th>\n",
       "      <th>GSM1467368</th>\n",
       "      <th>GSM1467369</th>\n",
       "      <th>GSM1467370</th>\n",
       "      <th>GSM1467371</th>\n",
       "      <th>GSM1467372</th>\n",
       "      <th>GSM1467373</th>\n",
       "      <th>GSM1467374</th>\n",
       "      <th>GSM1467375</th>\n",
       "      <th>GSM1467376</th>\n",
       "      <th>GSM1467377</th>\n",
       "      <th>GSM1467378</th>\n",
       "      <th>GSM1467379</th>\n",
       "      <th>GSM1467380</th>\n",
       "      <th>GSM1467381</th>\n",
       "      <th>GSM1467382</th>\n",
       "      <th>GSM1467383</th>\n",
       "      <th>GSM1467384</th>\n",
       "      <th>GSM1467385</th>\n",
       "      <th>GSM1467386</th>\n",
       "      <th>GSM1467387</th>\n",
       "      <th>GSM1467388</th>\n",
       "      <th>GSM1467389</th>\n",
       "      <th>GSM1467390</th>\n",
       "      <th>GSM1467391</th>\n",
       "      <th>GSM1467392</th>\n",
       "      <th>GSM1467393</th>\n",
       "      <th>GSM1467394</th>\n",
       "      <th>GSM1467395</th>\n",
       "      <th>GSM1467396</th>\n",
       "      <th>GSM1467397</th>\n",
       "      <th>GSM1467398</th>\n",
       "      <th>GSM1467399</th>\n",
       "      <th>GSM1467400</th>\n",
       "      <th>GSM1467401</th>\n",
       "      <th>GSM1467402</th>\n",
       "      <th>GSM1467403</th>\n",
       "      <th>GSM1467404</th>\n",
       "      <th>GSM1467405</th>\n",
       "    </tr>\n",
       "    <tr>\n",
       "      <th>GENE</th>\n",
       "      <th></th>\n",
       "      <th></th>\n",
       "      <th></th>\n",
       "      <th></th>\n",
       "      <th></th>\n",
       "      <th></th>\n",
       "      <th></th>\n",
       "      <th></th>\n",
       "      <th></th>\n",
       "      <th></th>\n",
       "      <th></th>\n",
       "      <th></th>\n",
       "      <th></th>\n",
       "      <th></th>\n",
       "      <th></th>\n",
       "      <th></th>\n",
       "      <th></th>\n",
       "      <th></th>\n",
       "      <th></th>\n",
       "      <th></th>\n",
       "      <th></th>\n",
       "      <th></th>\n",
       "      <th></th>\n",
       "      <th></th>\n",
       "      <th></th>\n",
       "      <th></th>\n",
       "      <th></th>\n",
       "      <th></th>\n",
       "      <th></th>\n",
       "      <th></th>\n",
       "      <th></th>\n",
       "      <th></th>\n",
       "      <th></th>\n",
       "      <th></th>\n",
       "      <th></th>\n",
       "      <th></th>\n",
       "      <th></th>\n",
       "      <th></th>\n",
       "      <th></th>\n",
       "      <th></th>\n",
       "      <th></th>\n",
       "      <th></th>\n",
       "      <th></th>\n",
       "      <th></th>\n",
       "      <th></th>\n",
       "      <th></th>\n",
       "      <th></th>\n",
       "      <th></th>\n",
       "      <th></th>\n",
       "      <th></th>\n",
       "      <th></th>\n",
       "      <th></th>\n",
       "      <th></th>\n",
       "      <th></th>\n",
       "      <th></th>\n",
       "      <th></th>\n",
       "      <th></th>\n",
       "      <th></th>\n",
       "      <th></th>\n",
       "      <th></th>\n",
       "      <th></th>\n",
       "      <th></th>\n",
       "      <th></th>\n",
       "      <th></th>\n",
       "      <th></th>\n",
       "      <th></th>\n",
       "      <th></th>\n",
       "      <th></th>\n",
       "      <th></th>\n",
       "      <th></th>\n",
       "      <th></th>\n",
       "      <th></th>\n",
       "      <th></th>\n",
       "      <th></th>\n",
       "      <th></th>\n",
       "      <th></th>\n",
       "      <th></th>\n",
       "      <th></th>\n",
       "      <th></th>\n",
       "      <th></th>\n",
       "      <th></th>\n",
       "    </tr>\n",
       "  </thead>\n",
       "  <tbody>\n",
       "    <tr>\n",
       "      <th>ILMN_1762337</th>\n",
       "      <td>7.386233</td>\n",
       "      <td>7.383662</td>\n",
       "      <td>7.391908</td>\n",
       "      <td>7.394525</td>\n",
       "      <td>7.380174</td>\n",
       "      <td>7.392893</td>\n",
       "      <td>7.395035</td>\n",
       "      <td>7.385740</td>\n",
       "      <td>7.392392</td>\n",
       "      <td>7.381276</td>\n",
       "      <td>7.400817</td>\n",
       "      <td>7.400051</td>\n",
       "      <td>7.451436</td>\n",
       "      <td>7.392118</td>\n",
       "      <td>7.395321</td>\n",
       "      <td>7.385121</td>\n",
       "      <td>7.385313</td>\n",
       "      <td>7.375387</td>\n",
       "      <td>7.390471</td>\n",
       "      <td>7.419163</td>\n",
       "      <td>7.380511</td>\n",
       "      <td>7.403535</td>\n",
       "      <td>7.398820</td>\n",
       "      <td>7.393632</td>\n",
       "      <td>7.394032</td>\n",
       "      <td>7.385716</td>\n",
       "      <td>7.387610</td>\n",
       "      <td>7.392589</td>\n",
       "      <td>7.387535</td>\n",
       "      <td>7.393915</td>\n",
       "      <td>7.379798</td>\n",
       "      <td>7.394142</td>\n",
       "      <td>7.419568</td>\n",
       "      <td>7.385260</td>\n",
       "      <td>7.382448</td>\n",
       "      <td>7.390901</td>\n",
       "      <td>7.386295</td>\n",
       "      <td>7.399189</td>\n",
       "      <td>7.397037</td>\n",
       "      <td>7.390348</td>\n",
       "      <td>...</td>\n",
       "      <td>7.388379</td>\n",
       "      <td>7.389425</td>\n",
       "      <td>7.385863</td>\n",
       "      <td>7.382194</td>\n",
       "      <td>7.410882</td>\n",
       "      <td>7.405704</td>\n",
       "      <td>7.404767</td>\n",
       "      <td>7.395976</td>\n",
       "      <td>7.378603</td>\n",
       "      <td>7.398384</td>\n",
       "      <td>7.384679</td>\n",
       "      <td>7.404515</td>\n",
       "      <td>7.389422</td>\n",
       "      <td>7.385648</td>\n",
       "      <td>7.389029</td>\n",
       "      <td>7.385783</td>\n",
       "      <td>7.395879</td>\n",
       "      <td>7.398518</td>\n",
       "      <td>7.384185</td>\n",
       "      <td>7.402536</td>\n",
       "      <td>7.380916</td>\n",
       "      <td>7.386598</td>\n",
       "      <td>7.429825</td>\n",
       "      <td>7.395899</td>\n",
       "      <td>7.384458</td>\n",
       "      <td>7.383185</td>\n",
       "      <td>7.404278</td>\n",
       "      <td>7.384904</td>\n",
       "      <td>7.390146</td>\n",
       "      <td>7.384375</td>\n",
       "      <td>7.388642</td>\n",
       "      <td>7.391313</td>\n",
       "      <td>7.383116</td>\n",
       "      <td>7.378260</td>\n",
       "      <td>7.386379</td>\n",
       "      <td>7.394498</td>\n",
       "      <td>7.382933</td>\n",
       "      <td>7.386308</td>\n",
       "      <td>7.383719</td>\n",
       "      <td>7.397961</td>\n",
       "    </tr>\n",
       "    <tr>\n",
       "      <th>ILMN_2055271</th>\n",
       "      <td>7.566603</td>\n",
       "      <td>7.503766</td>\n",
       "      <td>7.514338</td>\n",
       "      <td>7.454698</td>\n",
       "      <td>7.461963</td>\n",
       "      <td>7.469844</td>\n",
       "      <td>7.529504</td>\n",
       "      <td>7.440339</td>\n",
       "      <td>7.432822</td>\n",
       "      <td>7.459135</td>\n",
       "      <td>7.543113</td>\n",
       "      <td>7.452501</td>\n",
       "      <td>7.705146</td>\n",
       "      <td>7.596125</td>\n",
       "      <td>7.498154</td>\n",
       "      <td>7.545299</td>\n",
       "      <td>7.406923</td>\n",
       "      <td>7.401228</td>\n",
       "      <td>7.421056</td>\n",
       "      <td>7.462629</td>\n",
       "      <td>7.400502</td>\n",
       "      <td>7.397459</td>\n",
       "      <td>7.424542</td>\n",
       "      <td>7.500946</td>\n",
       "      <td>7.544474</td>\n",
       "      <td>7.500917</td>\n",
       "      <td>7.466203</td>\n",
       "      <td>7.422578</td>\n",
       "      <td>7.429444</td>\n",
       "      <td>7.405371</td>\n",
       "      <td>7.445335</td>\n",
       "      <td>7.679057</td>\n",
       "      <td>7.536705</td>\n",
       "      <td>7.440260</td>\n",
       "      <td>7.393190</td>\n",
       "      <td>7.617611</td>\n",
       "      <td>7.590569</td>\n",
       "      <td>7.435465</td>\n",
       "      <td>7.400972</td>\n",
       "      <td>7.390185</td>\n",
       "      <td>...</td>\n",
       "      <td>7.456618</td>\n",
       "      <td>7.420314</td>\n",
       "      <td>7.467558</td>\n",
       "      <td>7.464614</td>\n",
       "      <td>7.425586</td>\n",
       "      <td>7.488138</td>\n",
       "      <td>7.437731</td>\n",
       "      <td>7.435836</td>\n",
       "      <td>7.514324</td>\n",
       "      <td>7.528472</td>\n",
       "      <td>7.449622</td>\n",
       "      <td>7.520484</td>\n",
       "      <td>7.460191</td>\n",
       "      <td>7.443415</td>\n",
       "      <td>7.463826</td>\n",
       "      <td>7.424417</td>\n",
       "      <td>7.430239</td>\n",
       "      <td>7.525707</td>\n",
       "      <td>7.486611</td>\n",
       "      <td>7.451858</td>\n",
       "      <td>7.491203</td>\n",
       "      <td>7.541226</td>\n",
       "      <td>7.456086</td>\n",
       "      <td>7.427137</td>\n",
       "      <td>7.536929</td>\n",
       "      <td>7.504397</td>\n",
       "      <td>7.417781</td>\n",
       "      <td>7.450517</td>\n",
       "      <td>7.488699</td>\n",
       "      <td>7.401609</td>\n",
       "      <td>7.578161</td>\n",
       "      <td>7.503312</td>\n",
       "      <td>7.467789</td>\n",
       "      <td>7.500765</td>\n",
       "      <td>7.470310</td>\n",
       "      <td>7.502963</td>\n",
       "      <td>7.446026</td>\n",
       "      <td>7.490703</td>\n",
       "      <td>7.434865</td>\n",
       "      <td>7.446862</td>\n",
       "    </tr>\n",
       "    <tr>\n",
       "      <th>ILMN_1736007</th>\n",
       "      <td>7.395490</td>\n",
       "      <td>7.415111</td>\n",
       "      <td>7.411259</td>\n",
       "      <td>7.452471</td>\n",
       "      <td>7.406781</td>\n",
       "      <td>7.400772</td>\n",
       "      <td>7.464517</td>\n",
       "      <td>7.428403</td>\n",
       "      <td>7.393926</td>\n",
       "      <td>7.419256</td>\n",
       "      <td>7.430893</td>\n",
       "      <td>7.463886</td>\n",
       "      <td>7.441676</td>\n",
       "      <td>7.399954</td>\n",
       "      <td>7.416419</td>\n",
       "      <td>7.394407</td>\n",
       "      <td>7.394149</td>\n",
       "      <td>7.471065</td>\n",
       "      <td>7.413662</td>\n",
       "      <td>7.414325</td>\n",
       "      <td>7.396228</td>\n",
       "      <td>7.408074</td>\n",
       "      <td>7.457374</td>\n",
       "      <td>7.426909</td>\n",
       "      <td>7.408528</td>\n",
       "      <td>7.446387</td>\n",
       "      <td>7.398156</td>\n",
       "      <td>7.400009</td>\n",
       "      <td>7.429735</td>\n",
       "      <td>7.457548</td>\n",
       "      <td>7.397040</td>\n",
       "      <td>7.392384</td>\n",
       "      <td>7.418896</td>\n",
       "      <td>7.426542</td>\n",
       "      <td>7.427151</td>\n",
       "      <td>7.426393</td>\n",
       "      <td>7.530829</td>\n",
       "      <td>7.408560</td>\n",
       "      <td>7.458966</td>\n",
       "      <td>7.410572</td>\n",
       "      <td>...</td>\n",
       "      <td>7.392883</td>\n",
       "      <td>7.427061</td>\n",
       "      <td>7.426749</td>\n",
       "      <td>7.421202</td>\n",
       "      <td>7.409734</td>\n",
       "      <td>7.415489</td>\n",
       "      <td>7.396247</td>\n",
       "      <td>7.386492</td>\n",
       "      <td>7.395270</td>\n",
       "      <td>7.392601</td>\n",
       "      <td>7.405761</td>\n",
       "      <td>7.444102</td>\n",
       "      <td>7.398172</td>\n",
       "      <td>7.406047</td>\n",
       "      <td>7.405839</td>\n",
       "      <td>7.411998</td>\n",
       "      <td>7.409239</td>\n",
       "      <td>7.414095</td>\n",
       "      <td>7.398139</td>\n",
       "      <td>7.407446</td>\n",
       "      <td>7.422754</td>\n",
       "      <td>7.393836</td>\n",
       "      <td>7.399502</td>\n",
       "      <td>7.428688</td>\n",
       "      <td>7.413477</td>\n",
       "      <td>7.421273</td>\n",
       "      <td>7.439048</td>\n",
       "      <td>7.400521</td>\n",
       "      <td>7.406692</td>\n",
       "      <td>7.400641</td>\n",
       "      <td>7.417159</td>\n",
       "      <td>7.412115</td>\n",
       "      <td>7.388127</td>\n",
       "      <td>7.387117</td>\n",
       "      <td>7.407231</td>\n",
       "      <td>7.407277</td>\n",
       "      <td>7.393548</td>\n",
       "      <td>7.394282</td>\n",
       "      <td>7.420361</td>\n",
       "      <td>7.401746</td>\n",
       "    </tr>\n",
       "    <tr>\n",
       "      <th>ILMN_2383229</th>\n",
       "      <td>7.396522</td>\n",
       "      <td>7.380184</td>\n",
       "      <td>7.396145</td>\n",
       "      <td>7.437754</td>\n",
       "      <td>7.389166</td>\n",
       "      <td>7.386301</td>\n",
       "      <td>7.381726</td>\n",
       "      <td>7.411211</td>\n",
       "      <td>7.393087</td>\n",
       "      <td>7.388776</td>\n",
       "      <td>7.410690</td>\n",
       "      <td>7.394225</td>\n",
       "      <td>7.380928</td>\n",
       "      <td>7.394825</td>\n",
       "      <td>7.389272</td>\n",
       "      <td>7.381265</td>\n",
       "      <td>7.384548</td>\n",
       "      <td>7.389634</td>\n",
       "      <td>7.385577</td>\n",
       "      <td>7.390940</td>\n",
       "      <td>7.391638</td>\n",
       "      <td>7.398699</td>\n",
       "      <td>7.386617</td>\n",
       "      <td>7.392951</td>\n",
       "      <td>7.390627</td>\n",
       "      <td>7.385841</td>\n",
       "      <td>7.383043</td>\n",
       "      <td>7.387548</td>\n",
       "      <td>7.379674</td>\n",
       "      <td>7.414392</td>\n",
       "      <td>7.387134</td>\n",
       "      <td>7.391204</td>\n",
       "      <td>7.396711</td>\n",
       "      <td>7.383633</td>\n",
       "      <td>7.388312</td>\n",
       "      <td>7.422167</td>\n",
       "      <td>7.391642</td>\n",
       "      <td>7.394340</td>\n",
       "      <td>7.405836</td>\n",
       "      <td>7.386327</td>\n",
       "      <td>...</td>\n",
       "      <td>7.390146</td>\n",
       "      <td>7.389623</td>\n",
       "      <td>7.390705</td>\n",
       "      <td>7.398594</td>\n",
       "      <td>7.398851</td>\n",
       "      <td>7.414568</td>\n",
       "      <td>7.396422</td>\n",
       "      <td>7.394282</td>\n",
       "      <td>7.392053</td>\n",
       "      <td>7.387050</td>\n",
       "      <td>7.383961</td>\n",
       "      <td>7.381736</td>\n",
       "      <td>7.406727</td>\n",
       "      <td>7.385173</td>\n",
       "      <td>7.377312</td>\n",
       "      <td>7.400326</td>\n",
       "      <td>7.415997</td>\n",
       "      <td>7.379473</td>\n",
       "      <td>7.389521</td>\n",
       "      <td>7.391817</td>\n",
       "      <td>7.401613</td>\n",
       "      <td>7.400046</td>\n",
       "      <td>7.396275</td>\n",
       "      <td>7.400992</td>\n",
       "      <td>7.394005</td>\n",
       "      <td>7.410140</td>\n",
       "      <td>7.401575</td>\n",
       "      <td>7.390314</td>\n",
       "      <td>7.388930</td>\n",
       "      <td>7.403501</td>\n",
       "      <td>7.395504</td>\n",
       "      <td>7.383655</td>\n",
       "      <td>7.387001</td>\n",
       "      <td>7.387021</td>\n",
       "      <td>7.385719</td>\n",
       "      <td>7.393925</td>\n",
       "      <td>7.389303</td>\n",
       "      <td>7.390593</td>\n",
       "      <td>7.415308</td>\n",
       "      <td>7.388519</td>\n",
       "    </tr>\n",
       "    <tr>\n",
       "      <th>ILMN_1806310</th>\n",
       "      <td>7.406622</td>\n",
       "      <td>7.390529</td>\n",
       "      <td>7.390354</td>\n",
       "      <td>7.399255</td>\n",
       "      <td>7.428401</td>\n",
       "      <td>7.395842</td>\n",
       "      <td>7.405722</td>\n",
       "      <td>7.389512</td>\n",
       "      <td>7.405325</td>\n",
       "      <td>7.379728</td>\n",
       "      <td>7.398370</td>\n",
       "      <td>7.400199</td>\n",
       "      <td>7.397150</td>\n",
       "      <td>7.400205</td>\n",
       "      <td>7.411000</td>\n",
       "      <td>7.397182</td>\n",
       "      <td>7.407737</td>\n",
       "      <td>7.403152</td>\n",
       "      <td>7.405225</td>\n",
       "      <td>7.426077</td>\n",
       "      <td>7.392762</td>\n",
       "      <td>7.412809</td>\n",
       "      <td>7.386735</td>\n",
       "      <td>7.421235</td>\n",
       "      <td>7.441504</td>\n",
       "      <td>7.399473</td>\n",
       "      <td>7.391785</td>\n",
       "      <td>7.403696</td>\n",
       "      <td>7.416192</td>\n",
       "      <td>7.385968</td>\n",
       "      <td>7.421323</td>\n",
       "      <td>7.401927</td>\n",
       "      <td>7.392627</td>\n",
       "      <td>7.397413</td>\n",
       "      <td>7.441277</td>\n",
       "      <td>7.404173</td>\n",
       "      <td>7.389825</td>\n",
       "      <td>7.382910</td>\n",
       "      <td>7.402599</td>\n",
       "      <td>7.391979</td>\n",
       "      <td>...</td>\n",
       "      <td>7.402744</td>\n",
       "      <td>7.392958</td>\n",
       "      <td>7.439407</td>\n",
       "      <td>7.441851</td>\n",
       "      <td>7.418915</td>\n",
       "      <td>7.414568</td>\n",
       "      <td>7.394683</td>\n",
       "      <td>7.408915</td>\n",
       "      <td>7.446330</td>\n",
       "      <td>7.393242</td>\n",
       "      <td>7.397649</td>\n",
       "      <td>7.394347</td>\n",
       "      <td>7.405761</td>\n",
       "      <td>7.405052</td>\n",
       "      <td>7.398851</td>\n",
       "      <td>7.415227</td>\n",
       "      <td>7.417366</td>\n",
       "      <td>7.406236</td>\n",
       "      <td>7.385113</td>\n",
       "      <td>7.402284</td>\n",
       "      <td>7.406308</td>\n",
       "      <td>7.414682</td>\n",
       "      <td>7.408162</td>\n",
       "      <td>7.414487</td>\n",
       "      <td>7.401781</td>\n",
       "      <td>7.406691</td>\n",
       "      <td>7.415308</td>\n",
       "      <td>7.404915</td>\n",
       "      <td>7.437486</td>\n",
       "      <td>7.387104</td>\n",
       "      <td>7.431948</td>\n",
       "      <td>7.434326</td>\n",
       "      <td>7.421676</td>\n",
       "      <td>7.400124</td>\n",
       "      <td>7.422484</td>\n",
       "      <td>7.413941</td>\n",
       "      <td>7.404666</td>\n",
       "      <td>7.436115</td>\n",
       "      <td>7.406383</td>\n",
       "      <td>7.394833</td>\n",
       "    </tr>\n",
       "  </tbody>\n",
       "</table>\n",
       "<p>5 rows × 133 columns</p>\n",
       "</div>"
      ],
      "text/plain": [
       "              GSM1467273  GSM1467274  ...  GSM1467404  GSM1467405\n",
       "GENE                                  ...                        \n",
       "ILMN_1762337    7.386233    7.383662  ...    7.383719    7.397961\n",
       "ILMN_2055271    7.566603    7.503766  ...    7.434865    7.446862\n",
       "ILMN_1736007    7.395490    7.415111  ...    7.420361    7.401746\n",
       "ILMN_2383229    7.396522    7.380184  ...    7.415308    7.388519\n",
       "ILMN_1806310    7.406622    7.390529  ...    7.406383    7.394833\n",
       "\n",
       "[5 rows x 133 columns]"
      ]
     },
     "execution_count": 4,
     "metadata": {
      "tags": []
     },
     "output_type": "execute_result"
    }
   ],
   "source": [
    "y=[]\n",
    "X={}\n",
    "for sample in gse.gsms:\n",
    "  X_sample=gse.gsms[sample].table.set_index('ID_REF')['VALUE']\n",
    "  X_sample.index.rename('GENE',inplace=True)\n",
    "  X[sample]=X_sample\n",
    "  if gse.gsms[sample].metadata['title'][0].startswith('DLPFC_Control'):\n",
    "    y+=[0]\n",
    "  else:\n",
    "    y+=[1]\n",
    "X=pd.DataFrame(X)\n",
    "y=np.array(y)\n",
    "X.head()"
   ]
  },
  {
   "cell_type": "markdown",
   "metadata": {
    "id": "LMBlmVgcSzex"
   },
   "source": [
    "##3.1.LessSimpleBagger"
   ]
  },
  {
   "cell_type": "code",
   "execution_count": 7,
   "metadata": {
    "colab": {
     "base_uri": "https://localhost:8080/"
    },
    "executionInfo": {
     "elapsed": 19466,
     "status": "ok",
     "timestamp": 1618411918274,
     "user": {
      "displayName": "sadra barikbin",
      "photoUrl": "https://lh3.googleusercontent.com/a-/AOh14GiCq0YqNHWfcZyly3I_AMTkvS8_tO8PZOQpGtkK=s64",
      "userId": "07513140462530453530"
     },
     "user_tz": -270
    },
    "id": "JbUMq24GbAR_",
    "outputId": "0766ac6a-6ef2-41c3-cd61-530eef1ea01c"
   },
   "outputs": [
    {
     "name": "stdout",
     "output_type": "stream",
     "text": [
      "Balanced Accuracies:[0.5        0.46153846 0.50961538 0.75       0.625      0.625\n",
      " 0.625      0.62820513]\n",
      "Average Balanced Accuracies:0.5905448717948718\n"
     ]
    }
   ],
   "source": [
    "bagger=LessSimpleBagger(DecisionTreeClassifier(max_depth=10),n_estimators=5,max_features=0.5)\n",
    "scores = cross_val_score(bagger, X.T.to_numpy(), y, cv=8,scoring=make_scorer(balanced_accuracy_score))\n",
    "print(f\"Balanced Accuracies:{scores}\\nAverage Balanced Accuracies:{scores.mean()}\")\n"
   ]
  },
  {
   "cell_type": "markdown",
   "metadata": {
    "id": "PuEj3YCf-EXG"
   },
   "source": [
    "##3.2.AdaBoost"
   ]
  },
  {
   "cell_type": "code",
   "execution_count": 8,
   "metadata": {
    "colab": {
     "base_uri": "https://localhost:8080/"
    },
    "executionInfo": {
     "elapsed": 541165,
     "status": "ok",
     "timestamp": 1618412463915,
     "user": {
      "displayName": "sadra barikbin",
      "photoUrl": "https://lh3.googleusercontent.com/a-/AOh14GiCq0YqNHWfcZyly3I_AMTkvS8_tO8PZOQpGtkK=s64",
      "userId": "07513140462530453530"
     },
     "user_tz": -270
    },
    "id": "SNmGzCmvlxsF",
    "outputId": "b3e2d063-22fc-4554-afd6-7982f5540b13"
   },
   "outputs": [
    {
     "name": "stderr",
     "output_type": "stream",
     "text": [
      "[Parallel(n_jobs=1)]: Using backend SequentialBackend with 1 concurrent workers.\n"
     ]
    },
    {
     "name": "stdout",
     "output_type": "stream",
     "text": [
      "[CV]  ................................................................\n",
      "[CV] ................................................. , total= 1.2min\n",
      "[CV]  ................................................................\n"
     ]
    },
    {
     "name": "stderr",
     "output_type": "stream",
     "text": [
      "[Parallel(n_jobs=1)]: Done   1 out of   1 | elapsed:  1.2min remaining:    0.0s\n"
     ]
    },
    {
     "name": "stdout",
     "output_type": "stream",
     "text": [
      "[CV] ................................................. , total= 1.1min\n",
      "[CV]  ................................................................\n",
      "[CV] ................................................. , total= 1.1min\n",
      "[CV]  ................................................................\n",
      "[CV] ................................................. , total= 1.1min\n",
      "[CV]  ................................................................\n",
      "[CV] ................................................. , total= 1.1min\n",
      "[CV]  ................................................................\n",
      "[CV] ................................................. , total= 1.1min\n",
      "[CV]  ................................................................\n",
      "[CV] ................................................. , total= 1.1min\n",
      "[CV]  ................................................................\n",
      "[CV] ................................................. , total= 1.1min\n",
      "AdaBoost average balanced accuracy:0.5893429487179487\n"
     ]
    },
    {
     "name": "stderr",
     "output_type": "stream",
     "text": [
      "[Parallel(n_jobs=1)]: Done   8 out of   8 | elapsed:  9.0min finished\n"
     ]
    }
   ],
   "source": [
    "clf = AdaBoostClassifier(n_estimators=100)\n",
    "scores = cross_val_score(clf, X.T, y, cv=8,verbose=2,scoring=make_scorer(balanced_accuracy_score))\n",
    "print(f\"AdaBoost average balanced accuracy:{scores.mean()}\")"
   ]
  },
  {
   "cell_type": "markdown",
   "metadata": {
    "id": "9zCsRA0B-UF3"
   },
   "source": [
    "##3.3.Random Forest"
   ]
  },
  {
   "cell_type": "markdown",
   "metadata": {
    "id": "Z56S8jF1_PkL"
   },
   "source": [
    "Each tree is built on at most square root of data features."
   ]
  },
  {
   "cell_type": "code",
   "execution_count": 9,
   "metadata": {
    "colab": {
     "base_uri": "https://localhost:8080/",
     "height": 296
    },
    "executionInfo": {
     "elapsed": 16849,
     "status": "ok",
     "timestamp": 1618413610063,
     "user": {
      "displayName": "sadra barikbin",
      "photoUrl": "https://lh3.googleusercontent.com/a-/AOh14GiCq0YqNHWfcZyly3I_AMTkvS8_tO8PZOQpGtkK=s64",
      "userId": "07513140462530453530"
     },
     "user_tz": -270
    },
    "id": "S7ZIKVr9pkNs",
    "outputId": "3550c77e-dcf4-476b-8977-b04fd9e620e8"
   },
   "outputs": [
    {
     "data": {
      "image/png": "[encoded data removed]",
      "text/plain": [
       "<Figure size 432x288 with 1 Axes>"
      ]
     },
     "metadata": {
      "needs_background": "light",
      "tags": []
     },
     "output_type": "display_data"
    }
   ],
   "source": [
    "n_estimators_param=[2,5,10,20,50,100,200,500,1000]\n",
    "train_scores,test_scores=validation_curve(RandomForestClassifier(max_features='sqrt'),X.T,y,'n_estimators',n_estimators_param,cv=ShuffleSplit(n_splits=1,test_size=0.2),scoring=make_scorer(balanced_accuracy_score))\n",
    "plt.plot(n_estimators_param,train_scores)\n",
    "plt.plot(n_estimators_param,test_scores)\n",
    "plt.title(\"Validation Curve with RandomForest\")\n",
    "plt.xlabel(\"n_estimator\")\n",
    "plt.ylabel(\"Balanced Accuracy\")\n",
    "plt.ylim(0.0, 1.1)\n",
    "plt.legend(['Train','Test'],loc=\"best\")\n",
    "plt.show()"
   ]
  },
  {
   "cell_type": "markdown",
   "metadata": {
    "id": "Fd7xtAeI_Byb"
   },
   "source": [
    "Each tree is built on at most log2 of data features."
   ]
  },
  {
   "cell_type": "code",
   "execution_count": 11,
   "metadata": {
    "colab": {
     "base_uri": "https://localhost:8080/",
     "height": 296
    },
    "executionInfo": {
     "elapsed": 7786,
     "status": "ok",
     "timestamp": 1618413827547,
     "user": {
      "displayName": "sadra barikbin",
      "photoUrl": "https://lh3.googleusercontent.com/a-/AOh14GiCq0YqNHWfcZyly3I_AMTkvS8_tO8PZOQpGtkK=s64",
      "userId": "07513140462530453530"
     },
     "user_tz": -270
    },
    "id": "5lMhD6y_7_r2",
    "outputId": "69abd912-0856-4a86-a749-09aff545f09d"
   },
   "outputs": [
    {
     "data": {
      "image/png": "[encoded data removed]",
      "text/plain": [
       "<Figure size 432x288 with 1 Axes>"
      ]
     },
     "metadata": {
      "needs_background": "light",
      "tags": []
     },
     "output_type": "display_data"
    }
   ],
   "source": [
    "n_estimators_param=[2,5,10,20,50,100,200,500,1000]\n",
    "train_scores,test_scores=validation_curve(RandomForestClassifier(max_features='log2'),X.T,y,'n_estimators',n_estimators_param,cv=ShuffleSplit(n_splits=1,test_size=0.2),scoring=make_scorer(balanced_accuracy_score))\n",
    "plt.plot(n_estimators_param,train_scores)\n",
    "plt.plot(n_estimators_param,test_scores)\n",
    "plt.title(\"Validation Curve with RandomForest\")\n",
    "plt.xlabel(\"n_estimator\")\n",
    "plt.ylabel(\"Balanced Accuracy\")\n",
    "plt.ylim(0.0, 1.1)\n",
    "plt.legend(['Train','Test'],loc=\"best\")\n",
    "plt.show()"
   ]
  },
  {
   "cell_type": "markdown",
   "metadata": {
    "id": "kihrkouWAWuH"
   },
   "source": [
    "##3.4.LDA"
   ]
  },
  {
   "cell_type": "code",
   "execution_count": 12,
   "metadata": {
    "colab": {
     "base_uri": "https://localhost:8080/"
    },
    "executionInfo": {
     "elapsed": 21301,
     "status": "ok",
     "timestamp": 1618413892278,
     "user": {
      "displayName": "sadra barikbin",
      "photoUrl": "https://lh3.googleusercontent.com/a-/AOh14GiCq0YqNHWfcZyly3I_AMTkvS8_tO8PZOQpGtkK=s64",
      "userId": "07513140462530453530"
     },
     "user_tz": -270
    },
    "id": "Bi1HttqK9Yo1",
    "outputId": "5dad89a5-8983-44f0-a4c4-179aff9c1477"
   },
   "outputs": [
    {
     "name": "stderr",
     "output_type": "stream",
     "text": [
      "[Parallel(n_jobs=1)]: Using backend SequentialBackend with 1 concurrent workers.\n"
     ]
    },
    {
     "name": "stdout",
     "output_type": "stream",
     "text": [
      "[CV]  ................................................................\n",
      "[CV] ................................................. , total=   2.5s\n",
      "[CV]  ................................................................\n"
     ]
    },
    {
     "name": "stderr",
     "output_type": "stream",
     "text": [
      "[Parallel(n_jobs=1)]: Done   1 out of   1 | elapsed:    2.5s remaining:    0.0s\n"
     ]
    },
    {
     "name": "stdout",
     "output_type": "stream",
     "text": [
      "[CV] ................................................. , total=   2.5s\n",
      "[CV]  ................................................................\n",
      "[CV] ................................................. , total=   2.5s\n",
      "[CV]  ................................................................\n",
      "[CV] ................................................. , total=   2.4s\n",
      "[CV]  ................................................................\n",
      "[CV] ................................................. , total=   2.4s\n",
      "[CV]  ................................................................\n",
      "[CV] ................................................. , total=   2.4s\n",
      "[CV]  ................................................................\n",
      "[CV] ................................................. , total=   2.5s\n",
      "[CV]  ................................................................\n",
      "[CV] ................................................. , total=   2.5s\n",
      "LDA average balanced accuracy:0.5729166666666666\n"
     ]
    },
    {
     "name": "stderr",
     "output_type": "stream",
     "text": [
      "[Parallel(n_jobs=1)]: Done   8 out of   8 | elapsed:   19.8s finished\n"
     ]
    }
   ],
   "source": [
    "scores = cross_val_score(LDA(), X.T, y, cv=8,verbose=2,scoring=make_scorer(balanced_accuracy_score))\n",
    "print(f\"LDA average balanced accuracy:{scores.mean()}\")"
   ]
  },
  {
   "cell_type": "markdown",
   "metadata": {
    "id": "OrCeHd5CXNEM"
   },
   "source": [
    "##3.5.With PCA & a simple classifier"
   ]
  },
  {
   "cell_type": "code",
   "execution_count": 31,
   "metadata": {
    "colab": {
     "base_uri": "https://localhost:8080/",
     "height": 296
    },
    "executionInfo": {
     "elapsed": 2005,
     "status": "ok",
     "timestamp": 1618562011326,
     "user": {
      "displayName": "sadra barikbin",
      "photoUrl": "https://lh3.googleusercontent.com/a-/AOh14GiCq0YqNHWfcZyly3I_AMTkvS8_tO8PZOQpGtkK=s64",
      "userId": "07513140462530453530"
     },
     "user_tz": -270
    },
    "id": "f2P0gomPncVM",
    "outputId": "8424f900-b1dd-4117-d8cc-1f70eb055225"
   },
   "outputs": [
    {
     "name": "stdout",
     "output_type": "stream",
     "text": [
      "Explained variance:[0.2150034  0.14759176]\n"
     ]
    },
    {
     "data": {
      "image/png": "[encoded data removed]",
      "text/plain": [
       "<Figure size 432x288 with 1 Axes>"
      ]
     },
     "metadata": {
      "needs_background": "light",
      "tags": []
     },
     "output_type": "display_data"
    }
   ],
   "source": [
    "pca=PCA(n_components=2)\n",
    "Xprime=pca.fit_transform(X.T)\n",
    "print(f\"Explained variance:{pca.explained_variance_ratio_}\")\n",
    "plt.scatter(Xprime[y==0,0],Xprime[y==0,1],c='blue',label='Control')\n",
    "plt.scatter(Xprime[y==1,0],Xprime[y==1,1],c='red',label='Disorder')\n",
    "plt.xlabel('PC#1')\n",
    "plt.ylabel('PC#2')\n",
    "plt.legend(loc='best')\n",
    "plt.show()"
   ]
  },
  {
   "cell_type": "code",
   "execution_count": 28,
   "metadata": {
    "colab": {
     "base_uri": "https://localhost:8080/"
    },
    "executionInfo": {
     "elapsed": 3371,
     "status": "ok",
     "timestamp": 1618561240808,
     "user": {
      "displayName": "sadra barikbin",
      "photoUrl": "https://lh3.googleusercontent.com/a-/AOh14GiCq0YqNHWfcZyly3I_AMTkvS8_tO8PZOQpGtkK=s64",
      "userId": "07513140462530453530"
     },
     "user_tz": -270
    },
    "id": "s2ccyrOguEEq",
    "outputId": "aea861da-1447-4daf-a5fb-89a48b361e37"
   },
   "outputs": [
    {
     "name": "stdout",
     "output_type": "stream",
     "text": [
      "49\n"
     ]
    }
   ],
   "source": [
    "pca=PCA()\n",
    "pca.fit_transform(X.T)\n",
    "var=0.\n",
    "n_pc=0\n",
    "for pc_var in pca.explained_variance_ratio_:\n",
    "  var+=pc_var\n",
    "  n_pc+=1\n",
    "  if var>=0.9:\n",
    "    break\n",
    "print(n_pc)"
   ]
  },
  {
   "cell_type": "code",
   "execution_count": 34,
   "metadata": {
    "colab": {
     "base_uri": "https://localhost:8080/"
    },
    "executionInfo": {
     "elapsed": 14033,
     "status": "ok",
     "timestamp": 1618562145869,
     "user": {
      "displayName": "sadra barikbin",
      "photoUrl": "https://lh3.googleusercontent.com/a-/AOh14GiCq0YqNHWfcZyly3I_AMTkvS8_tO8PZOQpGtkK=s64",
      "userId": "07513140462530453530"
     },
     "user_tz": -270
    },
    "id": "iYPaluO6XUY1",
    "outputId": "4cdb0bd2-8be2-4d8d-f6d7-20b239f4ecb7"
   },
   "outputs": [
    {
     "name": "stderr",
     "output_type": "stream",
     "text": [
      "[Parallel(n_jobs=1)]: Using backend SequentialBackend with 1 concurrent workers.\n"
     ]
    },
    {
     "name": "stdout",
     "output_type": "stream",
     "text": [
      "[CV]  ................................................................\n",
      "[CV] ................................................. , total=   1.6s\n",
      "[CV]  ................................................................\n"
     ]
    },
    {
     "name": "stderr",
     "output_type": "stream",
     "text": [
      "[Parallel(n_jobs=1)]: Done   1 out of   1 | elapsed:    1.6s remaining:    0.0s\n"
     ]
    },
    {
     "name": "stdout",
     "output_type": "stream",
     "text": [
      "[CV] ................................................. , total=   1.6s\n",
      "[CV]  ................................................................\n",
      "[CV] ................................................. , total=   1.7s\n",
      "[CV]  ................................................................\n",
      "[CV] ................................................. , total=   1.6s\n",
      "[CV]  ................................................................\n",
      "[CV] ................................................. , total=   1.6s\n",
      "[CV]  ................................................................\n",
      "[CV] ................................................. , total=   1.5s\n",
      "[CV]  ................................................................\n",
      "[CV] ................................................. , total=   1.6s\n",
      "[CV]  ................................................................\n",
      "[CV] ................................................. , total=   1.6s\n",
      "PCA+Tree average balanced accuracy:0.530849358974359\n"
     ]
    },
    {
     "name": "stderr",
     "output_type": "stream",
     "text": [
      "[Parallel(n_jobs=1)]: Done   8 out of   8 | elapsed:   12.8s finished\n"
     ]
    }
   ],
   "source": [
    "pipe=Pipeline([('pca',PCA(n_components=49)),('tree',DecisionTreeClassifier())])\n",
    "scores = cross_val_score(pipe, X.T, y, cv=8,verbose=2,scoring=make_scorer(balanced_accuracy_score))\n",
    "print(f\"PCA+Tree average balanced accuracy:{scores.mean()}\")"
   ]
  },
  {
   "cell_type": "markdown",
   "metadata": {
    "id": "WQ4EK4Hc0qL4"
   },
   "source": [
    "##3.6.With PCA & an Ensemble"
   ]
  },
  {
   "cell_type": "code",
   "execution_count": 37,
   "metadata": {
    "colab": {
     "base_uri": "https://localhost:8080/"
    },
    "executionInfo": {
     "elapsed": 9912,
     "status": "ok",
     "timestamp": 1618562360838,
     "user": {
      "displayName": "sadra barikbin",
      "photoUrl": "https://lh3.googleusercontent.com/a-/AOh14GiCq0YqNHWfcZyly3I_AMTkvS8_tO8PZOQpGtkK=s64",
      "userId": "07513140462530453530"
     },
     "user_tz": -270
    },
    "id": "hDrYg9tG1DrS",
    "outputId": "bfc22ec1-ff0a-40bb-8c8e-1464cd47da10"
   },
   "outputs": [
    {
     "name": "stderr",
     "output_type": "stream",
     "text": [
      "[Parallel(n_jobs=1)]: Using backend SequentialBackend with 1 concurrent workers.\n"
     ]
    },
    {
     "name": "stdout",
     "output_type": "stream",
     "text": [
      "[CV]  ................................................................\n",
      "[CV] ................................................. , total=   1.1s\n",
      "[CV]  ................................................................\n"
     ]
    },
    {
     "name": "stderr",
     "output_type": "stream",
     "text": [
      "[Parallel(n_jobs=1)]: Done   1 out of   1 | elapsed:    1.1s remaining:    0.0s\n"
     ]
    },
    {
     "name": "stdout",
     "output_type": "stream",
     "text": [
      "[CV] ................................................. , total=   1.1s\n",
      "[CV]  ................................................................\n",
      "[CV] ................................................. , total=   1.1s\n",
      "[CV]  ................................................................\n",
      "[CV] ................................................. , total=   1.1s\n",
      "[CV]  ................................................................\n",
      "[CV] ................................................. , total=   1.1s\n",
      "[CV]  ................................................................\n",
      "[CV] ................................................. , total=   1.1s\n",
      "[CV]  ................................................................\n",
      "[CV] ................................................. , total=   1.1s\n",
      "[CV]  ................................................................\n",
      "[CV] ................................................. , total=   1.1s\n",
      "PCA+AB average balanced accuracy:0.5673076923076923\n"
     ]
    },
    {
     "name": "stderr",
     "output_type": "stream",
     "text": [
      "[Parallel(n_jobs=1)]: Done   8 out of   8 | elapsed:    8.9s finished\n"
     ]
    }
   ],
   "source": [
    "pipe=Pipeline([('pca',PCA(n_components=2)),('ab',AdaBoostClassifier(n_estimators=100))])\n",
    "scores = cross_val_score(pipe, X.T, y, cv=8,verbose=2,scoring=make_scorer(balanced_accuracy_score))\n",
    "print(f\"PCA+AB average balanced accuracy:{scores.mean()}\")"
   ]
  },
  {
   "cell_type": "code",
   "execution_count": 35,
   "metadata": {
    "colab": {
     "base_uri": "https://localhost:8080/"
    },
    "executionInfo": {
     "elapsed": 14897,
     "status": "ok",
     "timestamp": 1618562257537,
     "user": {
      "displayName": "sadra barikbin",
      "photoUrl": "https://lh3.googleusercontent.com/a-/AOh14GiCq0YqNHWfcZyly3I_AMTkvS8_tO8PZOQpGtkK=s64",
      "userId": "07513140462530453530"
     },
     "user_tz": -270
    },
    "id": "-OOEZFln0oad",
    "outputId": "7d02d371-89cc-4e77-d715-c914c60749a8"
   },
   "outputs": [
    {
     "name": "stderr",
     "output_type": "stream",
     "text": [
      "[Parallel(n_jobs=1)]: Using backend SequentialBackend with 1 concurrent workers.\n"
     ]
    },
    {
     "name": "stdout",
     "output_type": "stream",
     "text": [
      "[CV]  ................................................................\n",
      "[CV] ................................................. , total=   1.6s\n",
      "[CV]  ................................................................\n"
     ]
    },
    {
     "name": "stderr",
     "output_type": "stream",
     "text": [
      "[Parallel(n_jobs=1)]: Done   1 out of   1 | elapsed:    1.6s remaining:    0.0s\n"
     ]
    },
    {
     "name": "stdout",
     "output_type": "stream",
     "text": [
      "[CV] ................................................. , total=   1.8s\n",
      "[CV]  ................................................................\n",
      "[CV] ................................................. , total=   1.8s\n",
      "[CV]  ................................................................\n",
      "[CV] ................................................. , total=   1.8s\n",
      "[CV]  ................................................................\n",
      "[CV] ................................................. , total=   1.7s\n",
      "[CV]  ................................................................\n",
      "[CV] ................................................. , total=   1.7s\n",
      "[CV]  ................................................................\n",
      "[CV] ................................................. , total=   1.7s\n",
      "[CV]  ................................................................\n",
      "[CV] ................................................. , total=   1.8s\n",
      "PCA+RF average balanced accuracy:0.5416666666666666\n"
     ]
    },
    {
     "name": "stderr",
     "output_type": "stream",
     "text": [
      "[Parallel(n_jobs=1)]: Done   8 out of   8 | elapsed:   13.9s finished\n"
     ]
    }
   ],
   "source": [
    "pipe=Pipeline([('pca',PCA(n_components=49)),('tree',RandomForestClassifier())])\n",
    "scores = cross_val_score(pipe, X.T, y, cv=8,verbose=2,scoring=make_scorer(balanced_accuracy_score))\n",
    "print(f\"PCA+RF average balanced accuracy:{scores.mean()}\")"
   ]
  },
  {
   "cell_type": "markdown",
   "metadata": {
    "id": "7gW98mCM1k9v"
   },
   "source": [
    "##3.7.With Univariate Feature Selection & a simple classifier"
   ]
  },
  {
   "cell_type": "code",
   "execution_count": 6,
   "metadata": {
    "colab": {
     "base_uri": "https://localhost:8080/"
    },
    "executionInfo": {
     "elapsed": 146197,
     "status": "ok",
     "timestamp": 1618584231591,
     "user": {
      "displayName": "sadra barikbin",
      "photoUrl": "https://lh3.googleusercontent.com/a-/AOh14GiCq0YqNHWfcZyly3I_AMTkvS8_tO8PZOQpGtkK=s64",
      "userId": "07513140462530453530"
     },
     "user_tz": -270
    },
    "id": "DOMSQ_pVIMoi",
    "outputId": "3d491939-c92e-4313-8735-d8f01864cbc9"
   },
   "outputs": [
    {
     "data": {
      "text/plain": [
       "SelectKBest(k=2, score_func=<function mutual_info_classif at 0x7efc7626a200>)"
      ]
     },
     "execution_count": 6,
     "metadata": {
      "tags": []
     },
     "output_type": "execute_result"
    }
   ],
   "source": [
    "kbest=SelectKBest(score_func=mutual_info_classif,k=2)\n",
    "kbest.fit(X.T,y)"
   ]
  },
  {
   "cell_type": "code",
   "execution_count": 17,
   "metadata": {
    "colab": {
     "base_uri": "https://localhost:8080/",
     "height": 280
    },
    "executionInfo": {
     "elapsed": 1431,
     "status": "ok",
     "timestamp": 1618584872231,
     "user": {
      "displayName": "sadra barikbin",
      "photoUrl": "https://lh3.googleusercontent.com/a-/AOh14GiCq0YqNHWfcZyly3I_AMTkvS8_tO8PZOQpGtkK=s64",
      "userId": "07513140462530453530"
     },
     "user_tz": -270
    },
    "id": "rRoAM0Tn1yN6",
    "outputId": "abdf43f5-a461-4bb5-cd2e-f39e0f7d19b0"
   },
   "outputs": [
    {
     "data": {
      "image/png": "[encoded data removed]",
      "text/plain": [
       "<Figure size 432x288 with 1 Axes>"
      ]
     },
     "metadata": {
      "needs_background": "light",
      "tags": []
     },
     "output_type": "display_data"
    }
   ],
   "source": [
    "Xprime=kbest.transform(X.T)\n",
    "plt.scatter(Xprime[y==0,0],Xprime[y==0,1],c='blue',label='Control')\n",
    "plt.scatter(Xprime[y==1,0],Xprime[y==1,1],c='red',label='Disorder')\n",
    "plt.xlabel(X.index[kbest.get_support()][0])\n",
    "plt.ylabel(X.index[kbest.get_support()][1])\n",
    "plt.legend(loc='best')\n",
    "plt.show()\n",
    "\n"
   ]
  },
  {
   "cell_type": "code",
   "execution_count": 19,
   "metadata": {
    "colab": {
     "base_uri": "https://localhost:8080/"
    },
    "executionInfo": {
     "elapsed": 147521,
     "status": "ok",
     "timestamp": 1618585421909,
     "user": {
      "displayName": "sadra barikbin",
      "photoUrl": "https://lh3.googleusercontent.com/a-/AOh14GiCq0YqNHWfcZyly3I_AMTkvS8_tO8PZOQpGtkK=s64",
      "userId": "07513140462530453530"
     },
     "user_tz": -270
    },
    "id": "ZH3Xq0zPHyXx",
    "outputId": "f287ad4b-b2f2-4d2d-c290-539c5aab7508"
   },
   "outputs": [
    {
     "name": "stderr",
     "output_type": "stream",
     "text": [
      "[Parallel(n_jobs=1)]: Using backend SequentialBackend with 1 concurrent workers.\n"
     ]
    },
    {
     "name": "stdout",
     "output_type": "stream",
     "text": [
      "[CV]  ................................................................\n",
      "[CV] ................................................. , total= 2.4min\n",
      "5best+SVM average balanced accuracy:0.5\n"
     ]
    },
    {
     "name": "stderr",
     "output_type": "stream",
     "text": [
      "[Parallel(n_jobs=1)]: Done   1 out of   1 | elapsed:  2.4min remaining:    0.0s\n",
      "[Parallel(n_jobs=1)]: Done   1 out of   1 | elapsed:  2.4min finished\n"
     ]
    }
   ],
   "source": [
    "pipe=Pipeline([('kbest',SelectKBest(score_func=mutual_info_classif,k=5)),('svm',SVC())])\n",
    "scores = cross_val_score(pipe, X.T, y, cv=ShuffleSplit(n_splits=1,test_size=0.2),verbose=2,scoring=make_scorer(balanced_accuracy_score))\n",
    "print(f\"5best+SVM average balanced accuracy:{scores.mean()}\")"
   ]
  },
  {
   "cell_type": "markdown",
   "metadata": {
    "id": "09tL4Ht1NiK1"
   },
   "source": [
    "##3.8.With Univariate Feature Selection & an Ensemble"
   ]
  },
  {
   "cell_type": "code",
   "execution_count": 5,
   "metadata": {
    "colab": {
     "base_uri": "https://localhost:8080/"
    },
    "executionInfo": {
     "elapsed": 141493,
     "status": "ok",
     "timestamp": 1618605372850,
     "user": {
      "displayName": "sadra barikbin",
      "photoUrl": "https://lh3.googleusercontent.com/a-/AOh14GiCq0YqNHWfcZyly3I_AMTkvS8_tO8PZOQpGtkK=s64",
      "userId": "07513140462530453530"
     },
     "user_tz": -270
    },
    "id": "4l_VGshENhNS",
    "outputId": "015fe11d-acf6-4a08-a572-2851e7550e8e"
   },
   "outputs": [
    {
     "name": "stderr",
     "output_type": "stream",
     "text": [
      "[Parallel(n_jobs=1)]: Using backend SequentialBackend with 1 concurrent workers.\n"
     ]
    },
    {
     "name": "stdout",
     "output_type": "stream",
     "text": [
      "[CV]  ................................................................\n",
      "[CV] ................................................. , total= 2.3min\n",
      "3best+ average balanced accuracy:0.6863636363636363\n"
     ]
    },
    {
     "name": "stderr",
     "output_type": "stream",
     "text": [
      "[Parallel(n_jobs=1)]: Done   1 out of   1 | elapsed:  2.3min remaining:    0.0s\n",
      "[Parallel(n_jobs=1)]: Done   1 out of   1 | elapsed:  2.3min finished\n"
     ]
    }
   ],
   "source": [
    "pipe=Pipeline([('kbest',SelectKBest(score_func=mutual_info_classif,k=3)),('ab',AdaBoostClassifier(n_estimators=100))])\n",
    "scores = cross_val_score(pipe, X.T, y, cv=ShuffleSplit(n_splits=1,test_size=0.2),verbose=2,scoring=make_scorer(balanced_accuracy_score))\n",
    "print(f\"3best+ average balanced accuracy:{scores.mean()}\")"
   ]
  },
  {
   "cell_type": "markdown",
   "metadata": {
    "id": "xFsla0mcYOf9"
   },
   "source": [
    "Classification report for the best classifier:"
   ]
  },
  {
   "cell_type": "code",
   "execution_count": 9,
   "metadata": {
    "colab": {
     "base_uri": "https://localhost:8080/"
    },
    "executionInfo": {
     "elapsed": 137641,
     "status": "ok",
     "timestamp": 1618605577491,
     "user": {
      "displayName": "sadra barikbin",
      "photoUrl": "https://lh3.googleusercontent.com/a-/AOh14GiCq0YqNHWfcZyly3I_AMTkvS8_tO8PZOQpGtkK=s64",
      "userId": "07513140462530453530"
     },
     "user_tz": -270
    },
    "id": "Fvqt3wfNYN5I",
    "outputId": "42b30626-9c7c-46b4-82dd-528ccfad5879"
   },
   "outputs": [
    {
     "name": "stdout",
     "output_type": "stream",
     "text": [
      "              precision    recall  f1-score   support\n",
      "\n",
      "     Control       0.71      0.84      0.77        32\n",
      "    Disorder       0.17      0.08      0.11        12\n",
      "\n",
      "    accuracy                           0.64        44\n",
      "   macro avg       0.44      0.46      0.44        44\n",
      "weighted avg       0.56      0.64      0.59        44\n",
      "\n"
     ]
    }
   ],
   "source": [
    "X_train, X_test, y_train, y_test=train_test_split(X.T,y,test_size=0.33)\n",
    "pipe.fit(X_train,y_train)\n",
    "print(classification_report(y_test,pipe.predict(X_test),target_names=['Control','Disorder']))"
   ]
  },
  {
   "cell_type": "code",
   "execution_count": 21,
   "metadata": {
    "colab": {
     "base_uri": "https://localhost:8080/"
    },
    "executionInfo": {
     "elapsed": 136714,
     "status": "ok",
     "timestamp": 1618585902544,
     "user": {
      "displayName": "sadra barikbin",
      "photoUrl": "https://lh3.googleusercontent.com/a-/AOh14GiCq0YqNHWfcZyly3I_AMTkvS8_tO8PZOQpGtkK=s64",
      "userId": "07513140462530453530"
     },
     "user_tz": -270
    },
    "id": "UlkCn7T6OQph",
    "outputId": "e2948545-5d5b-4201-e8f6-9704e13cb2f5"
   },
   "outputs": [
    {
     "name": "stderr",
     "output_type": "stream",
     "text": [
      "[Parallel(n_jobs=1)]: Using backend SequentialBackend with 1 concurrent workers.\n"
     ]
    },
    {
     "name": "stdout",
     "output_type": "stream",
     "text": [
      "[CV]  ................................................................\n",
      "[CV] ................................................. , total= 2.3min\n",
      "20Best+RF average balanced accuracy:0.5597826086956521\n"
     ]
    },
    {
     "name": "stderr",
     "output_type": "stream",
     "text": [
      "[Parallel(n_jobs=1)]: Done   1 out of   1 | elapsed:  2.3min remaining:    0.0s\n",
      "[Parallel(n_jobs=1)]: Done   1 out of   1 | elapsed:  2.3min finished\n"
     ]
    }
   ],
   "source": [
    "pipe=Pipeline([('kbest',SelectKBest(score_func=mutual_info_classif,k=20)),('tree',RandomForestClassifier())])\n",
    "scores = cross_val_score(pipe, X.T, y, cv=ShuffleSplit(n_splits=1,test_size=0.2),verbose=2,scoring=make_scorer(balanced_accuracy_score))\n",
    "print(f\"20Best+RF average balanced accuracy:{scores.mean()}\")"
   ]
  }
 ],
 "metadata": {
  "colab": {
   "authorship_tag": "ABX9TyP1oQxOpwbch+oJvLUt7bGH",
   "name": "Ensemble.ipynb",
   "provenance": []
  },
  "kernelspec": {
   "display_name": "Python 3 (ipykernel)",
   "language": "python",
   "name": "python3"
  },
  "language_info": {
   "codemirror_mode": {
    "name": "ipython",
    "version": 3
   },
   "file_extension": ".py",
   "mimetype": "text/x-python",
   "name": "python",
   "nbconvert_exporter": "python",
   "pygments_lexer": "ipython3",
   "version": "3.8.10"
  }
 },
 "nbformat": 4,
 "nbformat_minor": 1
}
