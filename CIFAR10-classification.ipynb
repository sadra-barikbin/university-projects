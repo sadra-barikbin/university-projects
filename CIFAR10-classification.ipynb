{
 "cells": [
  {
   "cell_type": "markdown",
   "metadata": {
    "colab_type": "text",
    "id": "uVVeVEgumZLg"
   },
   "source": [
    "# CE-40959: Deep Learning\n",
    "## HW2 - CIFAR-10 Classification (Pytorch)\n",
    "\n",
    "(18 points)\n",
    "\n",
    "### Deadline: 23 Esfand\n",
    "\n",
    "#### Name: Sadroddin Barikbin\n",
    "#### Student No.: 98208824\n",
    "\n",
    "\n",
    "Please review `Pytorch Tutorial` notebook (materials of the TA classes) before coming to this notebook and you can use `pytorch.org` to learn how to use PyTorch classes and commands.\n",
    "\n",
    "In this part you have to implement MLP for Classification of CIFAR-10 dataset. \n",
    "\n",
    "PyTorch provides the elegantly designed modules and classes `torch.nn`, `torch.optim` , `Dataset` , and `DataLoader` to help you create and train neural networks. In this homework you use them for your implementations."
   ]
  },
  {
   "cell_type": "code",
   "execution_count": 0,
   "metadata": {
    "colab": {},
    "colab_type": "code",
    "id": "Effg05Po9jA4"
   },
   "outputs": [],
   "source": [
    "from google.colab import drive\n",
    "drive.mount('/content/drive')"
   ]
  },
  {
   "cell_type": "code",
   "execution_count": 0,
   "metadata": {
    "colab": {},
    "colab_type": "code",
    "id": "1SuMLAoW9kJd"
   },
   "outputs": [],
   "source": [
    "%cd \"drive/My Drive/Colab Data\""
   ]
  },
  {
   "cell_type": "code",
   "execution_count": 0,
   "metadata": {
    "colab": {},
    "colab_type": "code",
    "id": "v5alOnjtlGfy"
   },
   "outputs": [],
   "source": [
    "import numpy as np\n",
    "import os\n",
    "import matplotlib.pyplot as plt\n",
    "import torch\n",
    "import torchvision\n"
   ]
  },
  {
   "cell_type": "markdown",
   "metadata": {
    "colab_type": "text",
    "id": "WGj-LMuWmx2q"
   },
   "source": [
    "#### 3.1. Load Data:\n",
    "\n",
    "Complete the followed cell for data loading. \n",
    "In this cell you have to normalize, split and shuffle data for learning."
   ]
  },
  {
   "cell_type": "code",
   "execution_count": 2,
   "metadata": {
    "colab": {
     "base_uri": "https://localhost:8080/",
     "height": 117,
     "referenced_widgets": [
      "612a7c9396624160ad338b4ffd3d2376",
      "16c72e7f09be46aab2ef137eff1e05de",
      "60d4e3f4147d4f17bc987573d5bc91b9",
      "74f4a8b6a634467896c3c59487041b30",
      "e3d00a3419a440bd80f1f310372c804c",
      "29e6e929364b477e93f03cab91c24324",
      "a5b54171c54b4a6696e4923fc51a5855",
      "9e1a923010f54a8398069ea22f0b975f"
     ]
    },
    "colab_type": "code",
    "executionInfo": {
     "elapsed": 10686,
     "status": "ok",
     "timestamp": 1583602915906,
     "user": {
      "displayName": "sadra barikbein",
      "photoUrl": "https://lh3.googleusercontent.com/a-/AOh14GiCq0YqNHWfcZyly3I_AMTkvS8_tO8PZOQpGtkK=s64",
      "userId": "07513140462530453530"
     },
     "user_tz": -210
    },
    "id": "kgv51um_lJiL",
    "outputId": "6fa4207d-38a2-472c-8824-61bd34ce1dae"
   },
   "outputs": [
    {
     "name": "stdout",
     "output_type": "stream",
     "text": [
      "Downloading https://www.cs.toronto.edu/~kriz/cifar-10-python.tar.gz to ./data/cifar-10-python.tar.gz\n"
     ]
    },
    {
     "data": {
      "application/vnd.jupyter.widget-view+json": {
       "model_id": "612a7c9396624160ad338b4ffd3d2376",
       "version_major": 2,
       "version_minor": 0
      },
      "text/plain": [
       "HBox(children=(IntProgress(value=1, bar_style='info', max=1), HTML(value='')))"
      ]
     },
     "metadata": {
      "tags": []
     },
     "output_type": "display_data"
    },
    {
     "name": "stdout",
     "output_type": "stream",
     "text": [
      "\n",
      "Extracting ./data/cifar-10-python.tar.gz to ./data\n",
      "Files already downloaded and verified\n"
     ]
    }
   ],
   "source": [
    "import torchvision.transforms as transforms\n",
    "from torch.utils.data.sampler import SubsetRandomSampler\n",
    "transform=transforms.Compose([transforms.ToTensor(),transforms.Normalize((0.5, 0.5, 0.5), (0.5, 0.5, 0.5))])\n",
    "trainset = torchvision.datasets.CIFAR10(root='./data', train=True,download=True, transform=transform)\n",
    "indices=list(range(len(trainset)))\n",
    "np.random.shuffle(indices)\n",
    "train_idx, valid_idx = indices[10000:], indices[:10000]\n",
    "train_sampler = SubsetRandomSampler(train_idx)\n",
    "valid_sampler = SubsetRandomSampler(valid_idx)\n",
    "batch_size_train = 256\n",
    "batch_size_test = 256\n",
    "trainloader = torch.utils.data.DataLoader(trainset, batch_size=batch_size_train, sampler=train_sampler)\n",
    "validationloader = torch.utils.data.DataLoader(trainset, batch_size=batch_size_train, sampler=valid_sampler)\n",
    "testset = torchvision.datasets.CIFAR10(root='./data', train=False,download=True, transform=transform)\n",
    "testloader=torch.utils.data.DataLoader(testset, batch_size=batch_size_test)\n",
    "##################################################################################\n",
    "# TODO: Use 'torchvision.datasets.CIFAR-10' class for loading CIFAR-10 dataset.  #\n",
    "# This dataset has 50000 data for training and 10000 data for test and every     #\n",
    "# data has shape (3*32*32).                                                      #\n",
    "# Also Use 'torchvision.transforms.Compose' for common image transformations     #\n",
    "# such as normalization and use 'torch.utils.data.DataLoader' class that it      #\n",
    "# represents a Python iterable over a dataset and divides data to Batches.       #\n",
    "# Then Split data into 3 part: Train, Validation and Test. Finally,              #\n",
    "# save iterable data in 'trainloader', 'validationloader', 'testloader'.         #\n",
    "##################################################################################\n",
    "\n",
    "\n",
    "\n",
    "##################################################################################\n",
    "#                               End of your code                                 #\n",
    "##################################################################################\n",
    "\n",
    "classes = ('plane', 'car', 'bird', 'cat','deer', 'dog', 'frog', 'horse', 'ship', 'truck')"
   ]
  },
  {
   "cell_type": "markdown",
   "metadata": {
    "colab_type": "text",
    "id": "wdLQ8BpxEoZ-"
   },
   "source": [
    "#### 3.2. Load Data Test:"
   ]
  },
  {
   "cell_type": "code",
   "execution_count": 3,
   "metadata": {
    "colab": {
     "base_uri": "https://localhost:8080/",
     "height": 136
    },
    "colab_type": "code",
    "executionInfo": {
     "elapsed": 1360,
     "status": "ok",
     "timestamp": 1583602915910,
     "user": {
      "displayName": "sadra barikbein",
      "photoUrl": "https://lh3.googleusercontent.com/a-/AOh14GiCq0YqNHWfcZyly3I_AMTkvS8_tO8PZOQpGtkK=s64",
      "userId": "07513140462530453530"
     },
     "user_tz": -210
    },
    "id": "eaOeLN3klZ9F",
    "outputId": "6d67e473-0d69-4e56-e0ca-f403d65185b4"
   },
   "outputs": [
    {
     "name": "stdout",
     "output_type": "stream",
     "text": [
      "The size and type of each batch in trainloader is:\n",
      "torch.Size([256, 3, 32, 32])\n",
      "<class 'torch.Tensor'>\n",
      "\n",
      "The size and type of each batch in testloader is:\n",
      "torch.Size([256, 3, 32, 32])\n",
      "<class 'torch.Tensor'>\n"
     ]
    }
   ],
   "source": [
    "############################################################\n",
    "# Run the following code an check the size of each batch   #\n",
    "############################################################\n",
    "examples = enumerate(trainloader)\n",
    "batch_idx, (example_data, example_targets) = next(examples)\n",
    "print('The size and type of each batch in ''trainloader'' is:')\n",
    "print(example_data.size())\n",
    "print(type(example_data))\n",
    "examples = enumerate(testloader)\n",
    "batch_idx, (example_data, example_targets) = next(examples)\n",
    "print('\\nThe size and type of each batch in ''testloader'' is:')\n",
    "print(example_data.size())\n",
    "print(type(example_data))"
   ]
  },
  {
   "cell_type": "code",
   "execution_count": 0,
   "metadata": {
    "colab": {
     "base_uri": "https://localhost:8080/",
     "height": 1000
    },
    "colab_type": "code",
    "executionInfo": {
     "elapsed": 1268,
     "status": "ok",
     "timestamp": 1583413015659,
     "user": {
      "displayName": "sadra barikbein",
      "photoUrl": "https://lh3.googleusercontent.com/a-/AOh14GiCq0YqNHWfcZyly3I_AMTkvS8_tO8PZOQpGtkK=s64",
      "userId": "07513140462530453530"
     },
     "user_tz": -210
    },
    "id": "cPMpTd230hLY",
    "outputId": "d1937e22-30aa-4ba8-80a1-567b2e7793a0"
   },
   "outputs": [
    {
     "data": {
      "image/png": "[encoded data removed]",
      "text/plain": [
       "<Figure size 432x288 with 1 Axes>"
      ]
     },
     "metadata": {
      "tags": []
     },
     "output_type": "display_data"
    },
    {
     "data": {
      "image/png": "[encoded data removed]",
      "text/plain": [
       "<Figure size 432x288 with 1 Axes>"
      ]
     },
     "metadata": {
      "tags": []
     },
     "output_type": "display_data"
    },
    {
     "data": {
      "image/png": "[encoded data removed]",
      "text/plain": [
       "<Figure size 432x288 with 1 Axes>"
      ]
     },
     "metadata": {
      "tags": []
     },
     "output_type": "display_data"
    },
    {
     "data": {
      "image/png": "[encoded data removed]",
      "text/plain": [
       "<Figure size 432x288 with 1 Axes>"
      ]
     },
     "metadata": {
      "tags": []
     },
     "output_type": "display_data"
    }
   ],
   "source": [
    "#####################################################################\n",
    "# Run the following code and see some of the samples in the dataset #\n",
    "#####################################################################\n",
    "\n",
    "dataiter = iter(trainloader)\n",
    "images, labels = dataiter.next()\n",
    "\n",
    "# show images:\n",
    "for i in range(4):\n",
    "    img=torchvision.utils.make_grid(images[i])\n",
    "    ###########################################################\n",
    "    #  If you normalize data , here unnormalize them to see   # \n",
    "    #  clear them.                                            #\n",
    "    ###########################################################\n",
    "    m=0.5\n",
    "    s=0.5\n",
    "    img = img *s+m    # unnormalize\n",
    "    ###########################################################\n",
    "    #                   End of your code                      #\n",
    "    ###########################################################\n",
    "    npimg = img.numpy()\n",
    "    plt.imshow(np.transpose(npimg, (1,2, 0)))\n",
    "    plt.title(\"Target Labels: {}\".format(classes[labels[i]]))\n",
    "    plt.axis('off')\n",
    "    plt.show()\n",
    "    "
   ]
  },
  {
   "cell_type": "markdown",
   "metadata": {
    "colab_type": "text",
    "id": "TKpijVi0E1Zm"
   },
   "source": [
    "#### 3.3. Network Design:\n",
    "Design the layer of your network and select proper hyperparameter. \n",
    "\n"
   ]
  },
  {
   "cell_type": "code",
   "execution_count": 0,
   "metadata": {
    "colab": {},
    "colab_type": "code",
    "id": "V8nfR7jqxTBO"
   },
   "outputs": [],
   "source": [
    "import torch.nn as nn\n",
    "import torch.nn.functional as F\n",
    "######################################################################\n",
    "# TODO: Use 'torch.nn' module to design your network for CIFAR-10    #\n",
    "# classification. You have to implement the structure of MLP for it. #\n",
    "# In your design you don't have any limitation and you can use       #\n",
    "# Batch-norm layers, Drop-out layers and etc for generalization      #\n",
    "# improvement (if needed). Use classes and modules from 'torch.nn'.  #\n",
    "# In the following code, the 'MLP' class is your MLP network and     #\n",
    "# this class is inherited from nn.Module, so you can benefit         #\n",
    "# properties of the 'nn.Module'.You may complete '__init__()'        #\n",
    "# constructor by some classes like 'nn.ReLU()' or 'nn.Linear()'      #\n",
    "# to use them in the forward pass of your network.                   #\n",
    "######################################################################\n",
    "  \n",
    "class MLP(nn.Module):\n",
    "    def __init__(self):\n",
    "        super(MLP, self).__init__()\n",
    "        self.conv1 = nn.Conv2d(3, 6, 5)\n",
    "        self.pool = nn.MaxPool2d(2, 2)\n",
    "        self.conv2 = nn.Conv2d(6, 16, 5)\n",
    "        self.fc1 = nn.Linear(16 * 5 * 5, 120)\n",
    "        self.fc2 = nn.Linear(120, 84)\n",
    "        self.fc3 = nn.Linear(84, 10)\n",
    "        # self.do=nn.Dropout()\n",
    "        # self.cv=nn.Conv2d(3,100,2,stride=2)\n",
    "        # self.mp=nn.MaxPool2d(4)\n",
    "        # self.cv2=nn.Conv2d(100,10,2)\n",
    "        # self.bn=nn.BatchNorm2d(10)\n",
    "        # self.fl=nn.Flatten()\n",
    "        # self.fc=nn.Linear(90,10)\n",
    "\n",
    "    def forward(self, x):\n",
    "        x = self.pool(F.relu(self.conv1(x)))\n",
    "        x = self.pool(F.relu(self.conv2(x)))\n",
    "        x = x.view(-1, 16 * 5 * 5)\n",
    "        x = F.relu(self.fc1(x))\n",
    "        x = F.relu(self.fc2(x))\n",
    "        x = self.fc3(x)\n",
    "        return x\n",
    "        # out=self.do(x)\n",
    "        # out=self.cv(out)\n",
    "        # out=self.mp(out)\n",
    "        # out=self.cv2(out)\n",
    "        # out=self.bn(out)\n",
    "        # out=self.fl(out)\n",
    "        # out=torch.relu(out)\n",
    "        # out=self.fc(out)\n",
    "        # return out\n",
    "######################################################################\n",
    "#                          End of your code                          #\n",
    "######################################################################"
   ]
  },
  {
   "cell_type": "markdown",
   "metadata": {
    "colab_type": "text",
    "id": "1dGyL8c8E-Rb"
   },
   "source": [
    "#### 3.4. Optimization Algorithm:"
   ]
  },
  {
   "cell_type": "code",
   "execution_count": 24,
   "metadata": {
    "colab": {
     "base_uri": "https://localhost:8080/",
     "height": 170
    },
    "colab_type": "code",
    "executionInfo": {
     "elapsed": 1392,
     "status": "ok",
     "timestamp": 1583611413583,
     "user": {
      "displayName": "sadra barikbein",
      "photoUrl": "https://lh3.googleusercontent.com/a-/AOh14GiCq0YqNHWfcZyly3I_AMTkvS8_tO8PZOQpGtkK=s64",
      "userId": "07513140462530453530"
     },
     "user_tz": -210
    },
    "id": "AXuefQ1GB7Ry",
    "outputId": "5e6aa22a-4946-41aa-f9bf-23074c8b5403"
   },
   "outputs": [
    {
     "name": "stdout",
     "output_type": "stream",
     "text": [
      "cuda:0\n"
     ]
    },
    {
     "data": {
      "text/plain": [
       "MLP(\n",
       "  (conv1): Conv2d(3, 6, kernel_size=(5, 5), stride=(1, 1))\n",
       "  (pool): MaxPool2d(kernel_size=2, stride=2, padding=0, dilation=1, ceil_mode=False)\n",
       "  (conv2): Conv2d(6, 16, kernel_size=(5, 5), stride=(1, 1))\n",
       "  (fc1): Linear(in_features=400, out_features=120, bias=True)\n",
       "  (fc2): Linear(in_features=120, out_features=84, bias=True)\n",
       "  (fc3): Linear(in_features=84, out_features=10, bias=True)\n",
       ")"
      ]
     },
     "execution_count": 24,
     "metadata": {
      "tags": []
     },
     "output_type": "execute_result"
    }
   ],
   "source": [
    "import torch.optim as optim\n",
    "\n",
    "#############################################################################\n",
    "# TODO: Use a Classification Cross-Entropy loss.Then, use 'torch.optim'     #\n",
    "# module to optimize Cross-Entropy loss. You should select a optimization   #\n",
    "# algorithm and its hyperparameters like learning rate.                     #\n",
    "#############################################################################\n",
    "net = MLP()\n",
    "learning_rate = 0.1\n",
    "criterion = nn.CrossEntropyLoss()\n",
    "optimizer = optim.SGD(net.parameters(), lr=learning_rate, momentum=0.9)\n",
    "#optimizer = optim.Adam(net.parameters(),lr=learning_rate),weight_decay=0.3)\n",
    "if torch.cuda.device_count() > 1:\n",
    "  print(\"Let's use\", torch.cuda.device_count(), \"GPUs!\")\n",
    "  net = nn.DataParallel(net)\n",
    "device = torch.device(\"cuda:0\" if torch.cuda.is_available() else \"cpu\")\n",
    "print(device)\n",
    "net.to(device)\n",
    "\n",
    "#############################################################################\n",
    "#                             End of your code                              #\n",
    "#############################################################################"
   ]
  },
  {
   "cell_type": "markdown",
   "metadata": {
    "colab_type": "text",
    "id": "3jL9GEnZFN-z"
   },
   "source": [
    "#### 3.5. Training:\n",
    "You have to tweak `hidden_dim`, `leanirng_rate`, `weight_scale`, `num_epochs` and `reg` and etc to get a validation accuracy above 50%."
   ]
  },
  {
   "cell_type": "code",
   "execution_count": 25,
   "metadata": {
    "colab": {
     "base_uri": "https://localhost:8080/",
     "height": 527
    },
    "colab_type": "code",
    "executionInfo": {
     "elapsed": 212931,
     "status": "ok",
     "timestamp": 1583611629191,
     "user": {
      "displayName": "sadra barikbein",
      "photoUrl": "https://lh3.googleusercontent.com/a-/AOh14GiCq0YqNHWfcZyly3I_AMTkvS8_tO8PZOQpGtkK=s64",
      "userId": "07513140462530453530"
     },
     "user_tz": -210
    },
    "id": "zJdyD46TZY0t",
    "outputId": "351b01f8-a90b-4a70-e442-6168d0b116a5"
   },
   "outputs": [
    {
     "name": "stdout",
     "output_type": "stream",
     "text": [
      "(Epoch 1 / 30) train acc: 30.85%; val_acc: 43.39%\n",
      "(Epoch 2 / 30) train acc: 46.20%; val_acc: 47.25%\n",
      "(Epoch 3 / 30) train acc: 51.70%; val_acc: 51.01%\n",
      "(Epoch 4 / 30) train acc: 55.24%; val_acc: 48.76%\n",
      "(Epoch 5 / 30) train acc: 57.08%; val_acc: 53.61%\n",
      "(Epoch 6 / 30) train acc: 59.95%; val_acc: 56.49%\n",
      "(Epoch 7 / 30) train acc: 61.09%; val_acc: 58.55%\n",
      "(Epoch 8 / 30) train acc: 63.27%; val_acc: 57.96%\n",
      "(Epoch 9 / 30) train acc: 64.03%; val_acc: 58.52%\n",
      "(Epoch 10 / 30) train acc: 64.90%; val_acc: 56.95%\n",
      "(Epoch 11 / 30) train acc: 65.23%; val_acc: 57.61%\n",
      "(Epoch 12 / 30) train acc: 66.23%; val_acc: 57.62%\n",
      "(Epoch 13 / 30) train acc: 67.55%; val_acc: 57.71%\n",
      "(Epoch 14 / 30) train acc: 68.63%; val_acc: 56.47%\n",
      "(Epoch 15 / 30) train acc: 68.17%; val_acc: 57.57%\n",
      "(Epoch 16 / 30) train acc: 69.05%; val_acc: 57.62%\n",
      "(Epoch 17 / 30) train acc: 69.01%; val_acc: 57.00%\n",
      "(Epoch 18 / 30) train acc: 70.53%; val_acc: 58.09%\n",
      "(Epoch 19 / 30) train acc: 71.19%; val_acc: 56.43%\n",
      "(Epoch 20 / 30) train acc: 69.26%; val_acc: 57.19%\n",
      "(Epoch 21 / 30) train acc: 70.30%; val_acc: 54.50%\n",
      "(Epoch 22 / 30) train acc: 71.14%; val_acc: 58.71%\n",
      "(Epoch 23 / 30) train acc: 71.95%; val_acc: 56.61%\n",
      "(Epoch 24 / 30) train acc: 72.02%; val_acc: 55.94%\n",
      "(Epoch 25 / 30) train acc: 72.69%; val_acc: 55.98%\n",
      "(Epoch 26 / 30) train acc: 71.99%; val_acc: 56.62%\n",
      "(Epoch 27 / 30) train acc: 73.27%; val_acc: 54.45%\n",
      "(Epoch 28 / 30) train acc: 72.98%; val_acc: 57.84%\n",
      "(Epoch 29 / 30) train acc: 73.62%; val_acc: 57.31%\n",
      "(Epoch 30 / 30) train acc: 73.29%; val_acc: 55.73%\n"
     ]
    }
   ],
   "source": [
    "#######################################################\n",
    "# TODO: Feed the inputs data to the MLP network and   #\n",
    "# optimize Cross-Entropy loss by using target labels. #\n",
    "# Then update weights and biases.                     #\n",
    "#######################################################\n",
    "\n",
    "num_epochs=30\n",
    "num_batchs = len(trainloader)\n",
    "for epoch in range(num_epochs):\n",
    "    total_train=0\n",
    "    correct_train=0\n",
    "    running_loss = 0.0\n",
    "    for batch, data in enumerate(trainloader, 0):\n",
    "        inputs, labels = data[0].to(device), data[1].to(device)\n",
    "        optimizer.zero_grad()\n",
    "        outputs = net(inputs)\n",
    "        loss = criterion(outputs, labels)\n",
    "        loss.backward()\n",
    "        optimizer.step()  \n",
    "        #############################################\n",
    "        #           End of your code                #\n",
    "        #############################################\n",
    "        \n",
    "\n",
    "        # Results: \n",
    "        running_loss += loss.item()\n",
    "        total_train += labels.size(0)\n",
    "        _, predicted_train = torch.max(outputs.data, 1)\n",
    "        correct_train += (predicted_train == labels).sum().item()\n",
    "\n",
    "        if batch % (num_batchs/10) == ((num_batchs/10) -1):\n",
    "            print('[Batch %d / %d] loss: %.3f' %\n",
    "                  (batch + 1, num_batchs, running_loss / (num_batchs/10)))\n",
    "            running_loss = 0.0\n",
    "            torch.save(net.state_dict(), './model.pth')\n",
    "            torch.save(optimizer.state_dict(), './optimizer.pth')\n",
    "    correct = 0\n",
    "    total = 0\n",
    "    with torch.no_grad():\n",
    "        for data in validationloader:\n",
    "            images, labels = data[0].to(device), data[1].to(device)\n",
    "            outputs = net(images)\n",
    "            _, predicted = torch.max(outputs.data, 1)\n",
    "            total += labels.size(0)\n",
    "            correct += (predicted == labels).sum().item()\n",
    "    val_acc = correct / total\n",
    "    train_acc = correct_train / total_train\n",
    "    print('(Epoch %d / %d) train acc: %.2f%%; val_acc: %.2f%%' % (\n",
    "          epoch+1, num_epochs, 100*train_acc, 100*val_acc))"
   ]
  },
  {
   "cell_type": "markdown",
   "metadata": {
    "colab_type": "text",
    "id": "pLES_37SM6_N"
   },
   "source": [
    "#### 3.6. Test: \n",
    "Run the following cell and test your network."
   ]
  },
  {
   "cell_type": "code",
   "execution_count": 26,
   "metadata": {
    "colab": {
     "base_uri": "https://localhost:8080/",
     "height": 34
    },
    "colab_type": "code",
    "executionInfo": {
     "elapsed": 2714,
     "status": "ok",
     "timestamp": 1583611658012,
     "user": {
      "displayName": "sadra barikbein",
      "photoUrl": "https://lh3.googleusercontent.com/a-/AOh14GiCq0YqNHWfcZyly3I_AMTkvS8_tO8PZOQpGtkK=s64",
      "userId": "07513140462530453530"
     },
     "user_tz": -210
    },
    "id": "lw4zW0GPM6cR",
    "outputId": "037b58e9-630d-4bdf-8c31-2c08ba3ec107"
   },
   "outputs": [
    {
     "name": "stdout",
     "output_type": "stream",
     "text": [
      "Accuracy of the network on the test images: 55.690000 %\n"
     ]
    }
   ],
   "source": [
    "correct = 0\n",
    "total = 0\n",
    "with torch.no_grad():\n",
    "    for data in testloader:\n",
    "        images, labels = data[0].to(device), data[1].to(device)\n",
    "        outputs = net(images)\n",
    "        _, predicted = torch.max(outputs.data, 1)\n",
    "        total += labels.size(0)\n",
    "        correct += (predicted == labels).sum().item()\n",
    "test_acc = correct / total\n",
    "print('Accuracy of the network on the test images: %2f %%' % (100 * test_acc ))"
   ]
  },
  {
   "cell_type": "code",
   "execution_count": 27,
   "metadata": {
    "colab": {
     "base_uri": "https://localhost:8080/",
     "height": 187
    },
    "colab_type": "code",
    "executionInfo": {
     "elapsed": 2760,
     "status": "ok",
     "timestamp": 1583611665587,
     "user": {
      "displayName": "sadra barikbein",
      "photoUrl": "https://lh3.googleusercontent.com/a-/AOh14GiCq0YqNHWfcZyly3I_AMTkvS8_tO8PZOQpGtkK=s64",
      "userId": "07513140462530453530"
     },
     "user_tz": -210
    },
    "id": "nrnQkpyENTrR",
    "outputId": "083362bb-baa3-480a-b33f-f274e12870b7"
   },
   "outputs": [
    {
     "name": "stdout",
     "output_type": "stream",
     "text": [
      "Accuracy of plane : 56 %\n",
      "Accuracy of   car : 38 %\n",
      "Accuracy of  bird : 69 %\n",
      "Accuracy of   cat : 27 %\n",
      "Accuracy of  deer : 61 %\n",
      "Accuracy of   dog : 40 %\n",
      "Accuracy of  frog : 44 %\n",
      "Accuracy of horse : 50 %\n",
      "Accuracy of  ship : 76 %\n",
      "Accuracy of truck : 58 %\n"
     ]
    }
   ],
   "source": [
    "class_correct = list(0. for i in range(10))\n",
    "class_total = list(0. for i in range(10))\n",
    "with torch.no_grad():\n",
    "    for data in testloader:\n",
    "        images, labels = data[0].to(device), data[1].to(device)\n",
    "        outputs = net(images)\n",
    "        _, predicted = torch.max(outputs, 1)\n",
    "        c = (predicted == labels).squeeze()\n",
    "        for i in range(4):\n",
    "            label = labels[i]\n",
    "            class_correct[label] += c[i].item()\n",
    "            class_total[label] += 1\n",
    "\n",
    "\n",
    "for i in range(10):\n",
    "    print('Accuracy of %5s : %2d %%' % (classes[i], 100 * class_correct[i] / class_total[i]))"
   ]
  }
 ],
 "metadata": {
  "accelerator": "GPU",
  "colab": {
   "collapsed_sections": [],
   "name": "Part3.ipynb",
   "provenance": []
  },
  "kernelspec": {
   "display_name": "Python 3 (ipykernel)",
   "language": "python",
   "name": "python3"
  },
  "language_info": {
   "codemirror_mode": {
    "name": "ipython",
    "version": 3
   },
   "file_extension": ".py",
   "mimetype": "text/x-python",
   "name": "python",
   "nbconvert_exporter": "python",
   "pygments_lexer": "ipython3",
   "version": "3.8.10"
  },
  "widgets": {
   "application/vnd.jupyter.widget-state+json": {
    "16c72e7f09be46aab2ef137eff1e05de": {
     "model_module": "@jupyter-widgets/base",
     "model_name": "LayoutModel",
     "state": {
      "_model_module": "@jupyter-widgets/base",
      "_model_module_version": "1.2.0",
      "_model_name": "LayoutModel",
      "_view_count": null,
      "_view_module": "@jupyter-widgets/base",
      "_view_module_version": "1.2.0",
      "_view_name": "LayoutView",
      "align_content": null,
      "align_items": null,
      "align_self": null,
      "border": null,
      "bottom": null,
      "display": null,
      "flex": null,
      "flex_flow": null,
      "grid_area": null,
      "grid_auto_columns": null,
      "grid_auto_flow": null,
      "grid_auto_rows": null,
      "grid_column": null,
      "grid_gap": null,
      "grid_row": null,
      "grid_template_areas": null,
      "grid_template_columns": null,
      "grid_template_rows": null,
      "height": null,
      "justify_content": null,
      "justify_items": null,
      "left": null,
      "margin": null,
      "max_height": null,
      "max_width": null,
      "min_height": null,
      "min_width": null,
      "object_fit": null,
      "object_position": null,
      "order": null,
      "overflow": null,
      "overflow_x": null,
      "overflow_y": null,
      "padding": null,
      "right": null,
      "top": null,
      "visibility": null,
      "width": null
     }
    },
    "29e6e929364b477e93f03cab91c24324": {
     "model_module": "@jupyter-widgets/base",
     "model_name": "LayoutModel",
     "state": {
      "_model_module": "@jupyter-widgets/base",
      "_model_module_version": "1.2.0",
      "_model_name": "LayoutModel",
      "_view_count": null,
      "_view_module": "@jupyter-widgets/base",
      "_view_module_version": "1.2.0",
      "_view_name": "LayoutView",
      "align_content": null,
      "align_items": null,
      "align_self": null,
      "border": null,
      "bottom": null,
      "display": null,
      "flex": null,
      "flex_flow": null,
      "grid_area": null,
      "grid_auto_columns": null,
      "grid_auto_flow": null,
      "grid_auto_rows": null,
      "grid_column": null,
      "grid_gap": null,
      "grid_row": null,
      "grid_template_areas": null,
      "grid_template_columns": null,
      "grid_template_rows": null,
      "height": null,
      "justify_content": null,
      "justify_items": null,
      "left": null,
      "margin": null,
      "max_height": null,
      "max_width": null,
      "min_height": null,
      "min_width": null,
      "object_fit": null,
      "object_position": null,
      "order": null,
      "overflow": null,
      "overflow_x": null,
      "overflow_y": null,
      "padding": null,
      "right": null,
      "top": null,
      "visibility": null,
      "width": null
     }
    },
    "60d4e3f4147d4f17bc987573d5bc91b9": {
     "model_module": "@jupyter-widgets/controls",
     "model_name": "IntProgressModel",
     "state": {
      "_dom_classes": [],
      "_model_module": "@jupyter-widgets/controls",
      "_model_module_version": "1.5.0",
      "_model_name": "IntProgressModel",
      "_view_count": null,
      "_view_module": "@jupyter-widgets/controls",
      "_view_module_version": "1.5.0",
      "_view_name": "ProgressView",
      "bar_style": "success",
      "description": "",
      "description_tooltip": null,
      "layout": "IPY_MODEL_29e6e929364b477e93f03cab91c24324",
      "max": 1,
      "min": 0,
      "orientation": "horizontal",
      "style": "IPY_MODEL_e3d00a3419a440bd80f1f310372c804c",
      "value": 1
     }
    },
    "612a7c9396624160ad338b4ffd3d2376": {
     "model_module": "@jupyter-widgets/controls",
     "model_name": "HBoxModel",
     "state": {
      "_dom_classes": [],
      "_model_module": "@jupyter-widgets/controls",
      "_model_module_version": "1.5.0",
      "_model_name": "HBoxModel",
      "_view_count": null,
      "_view_module": "@jupyter-widgets/controls",
      "_view_module_version": "1.5.0",
      "_view_name": "HBoxView",
      "box_style": "",
      "children": [
       "IPY_MODEL_60d4e3f4147d4f17bc987573d5bc91b9",
       "IPY_MODEL_74f4a8b6a634467896c3c59487041b30"
      ],
      "layout": "IPY_MODEL_16c72e7f09be46aab2ef137eff1e05de"
     }
    },
    "74f4a8b6a634467896c3c59487041b30": {
     "model_module": "@jupyter-widgets/controls",
     "model_name": "HTMLModel",
     "state": {
      "_dom_classes": [],
      "_model_module": "@jupyter-widgets/controls",
      "_model_module_version": "1.5.0",
      "_model_name": "HTMLModel",
      "_view_count": null,
      "_view_module": "@jupyter-widgets/controls",
      "_view_module_version": "1.5.0",
      "_view_name": "HTMLView",
      "description": "",
      "description_tooltip": null,
      "layout": "IPY_MODEL_9e1a923010f54a8398069ea22f0b975f",
      "placeholder": "​",
      "style": "IPY_MODEL_a5b54171c54b4a6696e4923fc51a5855",
      "value": "170500096it [00:06, 27148642.54it/s]"
     }
    },
    "9e1a923010f54a8398069ea22f0b975f": {
     "model_module": "@jupyter-widgets/base",
     "model_name": "LayoutModel",
     "state": {
      "_model_module": "@jupyter-widgets/base",
      "_model_module_version": "1.2.0",
      "_model_name": "LayoutModel",
      "_view_count": null,
      "_view_module": "@jupyter-widgets/base",
      "_view_module_version": "1.2.0",
      "_view_name": "LayoutView",
      "align_content": null,
      "align_items": null,
      "align_self": null,
      "border": null,
      "bottom": null,
      "display": null,
      "flex": null,
      "flex_flow": null,
      "grid_area": null,
      "grid_auto_columns": null,
      "grid_auto_flow": null,
      "grid_auto_rows": null,
      "grid_column": null,
      "grid_gap": null,
      "grid_row": null,
      "grid_template_areas": null,
      "grid_template_columns": null,
      "grid_template_rows": null,
      "height": null,
      "justify_content": null,
      "justify_items": null,
      "left": null,
      "margin": null,
      "max_height": null,
      "max_width": null,
      "min_height": null,
      "min_width": null,
      "object_fit": null,
      "object_position": null,
      "order": null,
      "overflow": null,
      "overflow_x": null,
      "overflow_y": null,
      "padding": null,
      "right": null,
      "top": null,
      "visibility": null,
      "width": null
     }
    },
    "a5b54171c54b4a6696e4923fc51a5855": {
     "model_module": "@jupyter-widgets/controls",
     "model_name": "DescriptionStyleModel",
     "state": {
      "_model_module": "@jupyter-widgets/controls",
      "_model_module_version": "1.5.0",
      "_model_name": "DescriptionStyleModel",
      "_view_count": null,
      "_view_module": "@jupyter-widgets/base",
      "_view_module_version": "1.2.0",
      "_view_name": "StyleView",
      "description_width": ""
     }
    },
    "e3d00a3419a440bd80f1f310372c804c": {
     "model_module": "@jupyter-widgets/controls",
     "model_name": "ProgressStyleModel",
     "state": {
      "_model_module": "@jupyter-widgets/controls",
      "_model_module_version": "1.5.0",
      "_model_name": "ProgressStyleModel",
      "_view_count": null,
      "_view_module": "@jupyter-widgets/base",
      "_view_module_version": "1.2.0",
      "_view_name": "StyleView",
      "bar_color": null,
      "description_width": ""
     }
    }
   }
  }
 },
 "nbformat": 4,
 "nbformat_minor": 1
}
